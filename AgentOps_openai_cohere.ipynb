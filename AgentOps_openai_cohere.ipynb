{
  "nbformat": 4,
  "nbformat_minor": 0,
  "metadata": {
    "colab": {
      "provenance": []
    },
    "kernelspec": {
      "name": "python3",
      "display_name": "Python 3"
    },
    "language_info": {
      "name": "python"
    }
  },
  "cells": [
    {
      "cell_type": "markdown",
      "source": [
        "## Installing Libraries"
      ],
      "metadata": {
        "id": "gjoXSQ42YFJ5"
      }
    },
    {
      "cell_type": "code",
      "execution_count": null,
      "metadata": {
        "id": "E6vfClVbRcoW"
      },
      "outputs": [],
      "source": [
        "!pip install agentops openai cohere"
      ]
    },
    {
      "cell_type": "markdown",
      "source": [
        "## Loading the Libraries"
      ],
      "metadata": {
        "id": "tlewZywaYDTH"
      }
    },
    {
      "cell_type": "code",
      "source": [
        "from openai import OpenAI\n",
        "import cohere\n",
        "from google.colab import userdata\n",
        "import agentops\n",
        "import os"
      ],
      "metadata": {
        "id": "wYUpPRf5Rhev"
      },
      "execution_count": null,
      "outputs": []
    },
    {
      "cell_type": "code",
      "source": [
        "OPENAI_API_KEY = userdata.get(\"OPENAI_API_KEY\")\n",
        "AGENTOPS_API_KEY = userdata.get(\"AGENTOPS_API_KEY\")\n",
        "COHERE_API_KEY = userdata.get(\"COHERE_API_KEY\")"
      ],
      "metadata": {
        "id": "HbOU9DQyR4rP"
      },
      "execution_count": null,
      "outputs": []
    },
    {
      "cell_type": "markdown",
      "source": [
        "## Passing the API's and Initialising AgentOps Session"
      ],
      "metadata": {
        "id": "RY1nOGrDVRdi"
      }
    },
    {
      "cell_type": "code",
      "source": [
        "openai = OpenAI(api_key = OPENAI_API_KEY)\n",
        "agentops.init(AGENTOPS_API_KEY)\n",
        "co = cohere.Client(COHERE_API_KEY)"
      ],
      "metadata": {
        "colab": {
          "base_uri": "https://localhost:8080/"
        },
        "id": "JBUlxeu-SO1H",
        "outputId": "2527c254-d33e-4582-a4a2-7e74c897cb1b"
      },
      "execution_count": null,
      "outputs": [
        {
          "output_type": "stream",
          "name": "stderr",
          "text": [
            "🖇 AgentOps: \u001b[34mSession Replay: https://app.agentops.ai/drilldown?session_id=815d0f8e-fdd2-4d3c-9c27-e85155358852\u001b[0m\n",
            "INFO:agentops:\u001b[34mSession Replay: https://app.agentops.ai/drilldown?session_id=815d0f8e-fdd2-4d3c-9c27-e85155358852\u001b[0m\n"
          ]
        }
      ]
    },
    {
      "cell_type": "markdown",
      "source": [
        "OpenAI's Chat Completion Event"
      ],
      "metadata": {
        "id": "rGPEp7c6SZRU"
      }
    },
    {
      "cell_type": "code",
      "source": [
        "message = [\n",
        "    {\"role\": \"system\", \"content\": \"you are an assistant\"},\n",
        "          {\"role\": \"user\", \"content\": \"What is the main premise of the Game of Thrones series?\"}\n",
        "    ]"
      ],
      "metadata": {
        "id": "TgXiZbUbSXCk"
      },
      "execution_count": null,
      "outputs": []
    },
    {
      "cell_type": "code",
      "source": [
        "response = openai.chat.completions.create(\n",
        "    model = \"gpt-3.5-turbo\", messages = message, temperature = 0.1, stream = True\n",
        "    )"
      ],
      "metadata": {
        "id": "Szt10REGS8DN"
      },
      "execution_count": null,
      "outputs": []
    },
    {
      "cell_type": "markdown",
      "source": [
        "## Cohere's Generation Event"
      ],
      "metadata": {
        "id": "wo6CeVXjX54O"
      }
    },
    {
      "cell_type": "code",
      "source": [
        "stream = co.chat_stream(\n",
        "    message = \"What is the main premise of the Game of Thrones series?\",\n",
        "    connectors = [{\"id\": \"web-search\"}]\n",
        ")\n",
        "\n",
        "response = \"\"\n",
        "for event in stream:\n",
        "  if event.event_type == \"text-generation\":\n",
        "    response += event.text\n",
        "\n",
        "    49a2197a-33a6-4480-a425-6e6c6d825c12"
      ],
      "metadata": {
        "id": "eSMG5YUsT-uX"
      },
      "execution_count": null,
      "outputs": []
    },
    {
      "cell_type": "markdown",
      "source": [
        "## Ending the AgentOps Session and checking the results"
      ],
      "metadata": {
        "id": "x2AMWjTNUzyQ"
      }
    },
    {
      "cell_type": "code",
      "source": [
        "agentops.end_session(\"Success\")"
      ],
      "metadata": {
        "colab": {
          "base_uri": "https://localhost:8080/"
        },
        "id": "7j-ok-QQUHXd",
        "outputId": "e6341817-f6c8-4529-9226-89d46c21be7c"
      },
      "execution_count": null,
      "outputs": [
        {
          "output_type": "stream",
          "name": "stderr",
          "text": [
            "🖇 AgentOps: This run's cost $0.001641\n",
            "INFO:agentops:This run's cost $0.001641\n",
            "🖇 AgentOps: \u001b[34mSession Replay: https://app.agentops.ai/drilldown?session_id=815d0f8e-fdd2-4d3c-9c27-e85155358852\u001b[0m\n",
            "INFO:agentops:\u001b[34mSession Replay: https://app.agentops.ai/drilldown?session_id=815d0f8e-fdd2-4d3c-9c27-e85155358852\u001b[0m\n"
          ]
        }
      ]
    }
  ]
}