{
  "nbformat": 4,
  "nbformat_minor": 0,
  "metadata": {
    "colab": {
      "provenance": []
    },
    "kernelspec": {
      "name": "python3",
      "display_name": "Python 3"
    },
    "language_info": {
      "name": "python"
    }
  },
  "cells": [
    {
      "cell_type": "markdown",
      "source": [
        "## Library Installation"
      ],
      "metadata": {
        "id": "7M-PyuGLS-Es"
      }
    },
    {
      "cell_type": "code",
      "source": [
        "!pip install llama-agents llama-index-agent-openai llama-index-embeddings-openai"
      ],
      "metadata": {
        "id": "04uYofVBhjO8"
      },
      "execution_count": null,
      "outputs": []
    },
    {
      "cell_type": "markdown",
      "source": [
        "## Library Imports"
      ],
      "metadata": {
        "id": "Cp79CNt_TAt2"
      }
    },
    {
      "cell_type": "code",
      "execution_count": null,
      "metadata": {
        "id": "bD7JmNvhg7Qe"
      },
      "outputs": [],
      "source": [
        "from llama_agents import (\n",
        "    AgentService,\n",
        "    ControlPlaneServer,\n",
        "    SimpleMessageQueue,\n",
        "    AgentOrchestrator,\n",
        ")\n",
        "from llama_index.core.agent import FunctionCallingAgentWorker\n",
        "from llama_index.core.tools import FunctionTool\n",
        "from llama_index.llms.openai import OpenAI\n",
        "import logging\n",
        "from google.colab import userdata\n",
        "import os\n",
        "import nest_asyncio\n",
        "nest_asyncio.apply()"
      ]
    },
    {
      "cell_type": "markdown",
      "source": [
        "## Enabling Logging"
      ],
      "metadata": {
        "id": "W-S6FNtiTCiV"
      }
    },
    {
      "cell_type": "code",
      "source": [
        "logging.getLogger(\"llama_agents\").setLevel(logging.INFO)"
      ],
      "metadata": {
        "id": "UT0rof4HkrVQ"
      },
      "execution_count": null,
      "outputs": []
    },
    {
      "cell_type": "markdown",
      "source": [
        "## API Setting"
      ],
      "metadata": {
        "id": "pEbqBt6_TD-C"
      }
    },
    {
      "cell_type": "code",
      "source": [
        "os.environ['OPENAI_API_KEY'] = userdata.get('OPENAI_API_KEY')"
      ],
      "metadata": {
        "id": "Zr-5q6woi4t9"
      },
      "execution_count": null,
      "outputs": []
    },
    {
      "cell_type": "markdown",
      "source": [
        "## Defining Message Queue and Control Plane"
      ],
      "metadata": {
        "id": "pxHl9JrfTFbL"
      }
    },
    {
      "cell_type": "code",
      "source": [
        "message_queue = SimpleMessageQueue()\n",
        "control_plane = ControlPlaneServer(\n",
        "    message_queue=message_queue,\n",
        "    orchestrator=AgentOrchestrator(llm=OpenAI()),\n",
        ")"
      ],
      "metadata": {
        "id": "i_Ab8FJfhA7c"
      },
      "execution_count": null,
      "outputs": []
    },
    {
      "cell_type": "markdown",
      "source": [
        "## Tool Definition"
      ],
      "metadata": {
        "id": "dx_uXXRCTIla"
      }
    },
    {
      "cell_type": "code",
      "source": [
        "def get_the_syno() -> str:\n",
        "    \"\"\"Returns the word snyonym.\"\"\"\n",
        "    return \"The synonym of the word Artificial Intelligence is: Expert Systems.\"\n",
        "\n",
        "tool_1 = FunctionTool.from_defaults(fn=get_the_syno)"
      ],
      "metadata": {
        "id": "RQ3We7M5jv66"
      },
      "execution_count": null,
      "outputs": []
    },
    {
      "cell_type": "markdown",
      "source": [
        "## Agent-as-a-Service Setup"
      ],
      "metadata": {
        "id": "R5yqUR_GTLGY"
      }
    },
    {
      "cell_type": "code",
      "source": [
        "worker1 = FunctionCallingAgentWorker.from_tools([tool_1], llm=OpenAI())\n",
        "agent1 = worker1.as_agent()"
      ],
      "metadata": {
        "id": "otlsMIptk07I"
      },
      "execution_count": null,
      "outputs": []
    },
    {
      "cell_type": "code",
      "source": [
        "agent_service_1 = AgentService(\n",
        "    agent=agent1,\n",
        "    message_queue=message_queue,\n",
        "    description=\"Word Synonym Finder\",\n",
        "    service_name=\"synonym_finder\",\n",
        "    host = \"localhost\",\n",
        "    port = 8003\n",
        ")"
      ],
      "metadata": {
        "id": "CvsU7yYL_7qu"
      },
      "execution_count": null,
      "outputs": []
    },
    {
      "cell_type": "code",
      "source": [
        "from llama_agents import ServerLauncher, CallableMessageConsumer\n",
        "\n",
        "# Additional human consumer\n",
        "def handle_result(message) -> None:\n",
        "    print(f\"Got result:\", message.data)\n",
        "\n",
        "\n",
        "# the final result is published to a \"human\" consumer\n",
        "# so we define one to handle it!\n",
        "human_consumer = CallableMessageConsumer(\n",
        "    handler=handle_result, message_type=\"human\"\n",
        ")\n",
        "\n",
        "# Define Launcher\n",
        "launcher = ServerLauncher(\n",
        "    [agent_service_1],\n",
        "    control_plane,\n",
        "    message_queue,\n",
        "    additional_consumers=[human_consumer]\n",
        ")\n",
        "\n",
        "launcher.launch_servers()"
      ],
      "metadata": {
        "id": "h3DDS1V0k35o"
      },
      "execution_count": null,
      "outputs": []
    }
  ]
}