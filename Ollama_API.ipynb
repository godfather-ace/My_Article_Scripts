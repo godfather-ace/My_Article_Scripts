{
  "nbformat": 4,
  "nbformat_minor": 0,
  "metadata": {
    "colab": {
      "provenance": []
    },
    "kernelspec": {
      "name": "python3",
      "display_name": "Python 3"
    },
    "language_info": {
      "name": "python"
    }
  },
  "cells": [
    {
      "cell_type": "markdown",
      "source": [
        "## Library Imports"
      ],
      "metadata": {
        "id": "YkTIrV8iUbpJ"
      }
    },
    {
      "cell_type": "code",
      "execution_count": null,
      "metadata": {
        "id": "zuLPgHhgc2XV"
      },
      "outputs": [],
      "source": [
        "import json\n",
        "import requests"
      ]
    },
    {
      "cell_type": "markdown",
      "source": [
        "## Using Ollama localhost url, headers and data"
      ],
      "metadata": {
        "id": "QjOYKdOCUTqN"
      }
    },
    {
      "cell_type": "code",
      "source": [
        "url = \"http://localhost:11434/api/generate\"\n",
        "\n",
        "headers = {\n",
        "    \"Content-Type\": \"application/json\"\n",
        "}\n",
        "\n",
        "data = {\n",
        "    \"model\": \"phi\",\n",
        "    \"prompt\": \"can you tell me about India in brief?\",\n",
        "    \"stream\": False\n",
        "}\n",
        "\n"
      ],
      "metadata": {
        "id": "pKxqcccnc3NE"
      },
      "execution_count": null,
      "outputs": []
    },
    {
      "cell_type": "markdown",
      "source": [
        "## Generating response based on prompt supplied in data"
      ],
      "metadata": {
        "id": "KhOJARylUmUv"
      }
    },
    {
      "cell_type": "code",
      "source": [
        "response = requests.post(url, headers = headers, data = json.dumps(data))\n",
        "if response.status_code == 200:\n",
        "    response_text = response.text\n",
        "    data = json.loads(response_text)\n",
        "    actual_response = data['response']\n",
        "    print(actual_response)\n",
        "else:\n",
        "    print(\"Error:\", response.status_code, response.text)"
      ],
      "metadata": {
        "id": "vkWgLmT6c3mL"
      },
      "execution_count": null,
      "outputs": []
    }
  ]
}