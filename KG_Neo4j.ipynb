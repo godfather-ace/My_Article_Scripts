{
  "nbformat": 4,
  "nbformat_minor": 0,
  "metadata": {
    "colab": {
      "provenance": []
    },
    "kernelspec": {
      "name": "python3",
      "display_name": "Python 3"
    },
    "language_info": {
      "name": "python"
    }
  },
  "cells": [
    {
      "cell_type": "markdown",
      "source": [
        "## Library Installation"
      ],
      "metadata": {
        "id": "fkMl-Qjehel5"
      }
    },
    {
      "cell_type": "code",
      "execution_count": null,
      "metadata": {
        "colab": {
          "base_uri": "https://localhost:8080/"
        },
        "id": "oivm21rp_vM0",
        "outputId": "93e3a3ae-22ee-4644-d15e-165ad21e4cb9"
      },
      "outputs": [
        {
          "output_type": "stream",
          "name": "stdout",
          "text": [
            "Collecting openai\n",
            "  Downloading openai-1.30.1-py3-none-any.whl (320 kB)\n",
            "\u001b[2K     \u001b[90m━━━━━━━━━━━━━━━━━━━━━━━━━━━━━━━━━━━━━━━━\u001b[0m \u001b[32m320.6/320.6 kB\u001b[0m \u001b[31m6.3 MB/s\u001b[0m eta \u001b[36m0:00:00\u001b[0m\n",
            "\u001b[?25hCollecting langchain\n",
            "  Downloading langchain-0.2.0-py3-none-any.whl (973 kB)\n",
            "\u001b[2K     \u001b[90m━━━━━━━━━━━━━━━━━━━━━━━━━━━━━━━━━━━━━━━━\u001b[0m \u001b[32m973.7/973.7 kB\u001b[0m \u001b[31m26.7 MB/s\u001b[0m eta \u001b[36m0:00:00\u001b[0m\n",
            "\u001b[?25hCollecting langchain_openai\n",
            "  Downloading langchain_openai-0.1.7-py3-none-any.whl (34 kB)\n",
            "Collecting langchain-experimental\n",
            "  Downloading langchain_experimental-0.0.59-py3-none-any.whl (199 kB)\n",
            "\u001b[2K     \u001b[90m━━━━━━━━━━━━━━━━━━━━━━━━━━━━━━━━━━━━━━━━\u001b[0m \u001b[32m199.5/199.5 kB\u001b[0m \u001b[31m20.4 MB/s\u001b[0m eta \u001b[36m0:00:00\u001b[0m\n",
            "\u001b[?25hCollecting langchain-community\n",
            "  Downloading langchain_community-0.2.0-py3-none-any.whl (2.1 MB)\n",
            "\u001b[2K     \u001b[90m━━━━━━━━━━━━━━━━━━━━━━━━━━━━━━━━━━━━━━━━\u001b[0m \u001b[32m2.1/2.1 MB\u001b[0m \u001b[31m46.8 MB/s\u001b[0m eta \u001b[36m0:00:00\u001b[0m\n",
            "\u001b[?25hCollecting neo4j\n",
            "  Downloading neo4j-5.20.0.tar.gz (202 kB)\n",
            "\u001b[2K     \u001b[90m━━━━━━━━━━━━━━━━━━━━━━━━━━━━━━━━━━━━━━━━\u001b[0m \u001b[32m203.0/203.0 kB\u001b[0m \u001b[31m16.5 MB/s\u001b[0m eta \u001b[36m0:00:00\u001b[0m\n",
            "\u001b[?25h  Installing build dependencies ... \u001b[?25l\u001b[?25hdone\n",
            "  Getting requirements to build wheel ... \u001b[?25l\u001b[?25hdone\n",
            "  Installing backend dependencies ... \u001b[?25l\u001b[?25hdone\n",
            "  Preparing metadata (pyproject.toml) ... \u001b[?25l\u001b[?25hdone\n",
            "Collecting unstructured\n",
            "  Downloading unstructured-0.14.0-py3-none-any.whl (1.9 MB)\n",
            "\u001b[2K     \u001b[90m━━━━━━━━━━━━━━━━━━━━━━━━━━━━━━━━━━━━━━━━\u001b[0m \u001b[32m1.9/1.9 MB\u001b[0m \u001b[31m54.0 MB/s\u001b[0m eta \u001b[36m0:00:00\u001b[0m\n",
            "\u001b[?25hRequirement already satisfied: anyio<5,>=3.5.0 in /usr/local/lib/python3.10/dist-packages (from openai) (3.7.1)\n",
            "Requirement already satisfied: distro<2,>=1.7.0 in /usr/lib/python3/dist-packages (from openai) (1.7.0)\n",
            "Collecting httpx<1,>=0.23.0 (from openai)\n",
            "  Downloading httpx-0.27.0-py3-none-any.whl (75 kB)\n",
            "\u001b[2K     \u001b[90m━━━━━━━━━━━━━━━━━━━━━━━━━━━━━━━━━━━━━━━━\u001b[0m \u001b[32m75.6/75.6 kB\u001b[0m \u001b[31m9.7 MB/s\u001b[0m eta \u001b[36m0:00:00\u001b[0m\n",
            "\u001b[?25hRequirement already satisfied: pydantic<3,>=1.9.0 in /usr/local/lib/python3.10/dist-packages (from openai) (2.7.1)\n",
            "Requirement already satisfied: sniffio in /usr/local/lib/python3.10/dist-packages (from openai) (1.3.1)\n",
            "Requirement already satisfied: tqdm>4 in /usr/local/lib/python3.10/dist-packages (from openai) (4.66.4)\n",
            "Requirement already satisfied: typing-extensions<5,>=4.7 in /usr/local/lib/python3.10/dist-packages (from openai) (4.11.0)\n",
            "Requirement already satisfied: PyYAML>=5.3 in /usr/local/lib/python3.10/dist-packages (from langchain) (6.0.1)\n",
            "Requirement already satisfied: SQLAlchemy<3,>=1.4 in /usr/local/lib/python3.10/dist-packages (from langchain) (2.0.30)\n",
            "Requirement already satisfied: aiohttp<4.0.0,>=3.8.3 in /usr/local/lib/python3.10/dist-packages (from langchain) (3.9.5)\n",
            "Requirement already satisfied: async-timeout<5.0.0,>=4.0.0 in /usr/local/lib/python3.10/dist-packages (from langchain) (4.0.3)\n",
            "Collecting dataclasses-json<0.7,>=0.5.7 (from langchain)\n",
            "  Downloading dataclasses_json-0.6.6-py3-none-any.whl (28 kB)\n",
            "Collecting langchain-core<0.3.0,>=0.2.0 (from langchain)\n",
            "  Downloading langchain_core-0.2.1-py3-none-any.whl (308 kB)\n",
            "\u001b[2K     \u001b[90m━━━━━━━━━━━━━━━━━━━━━━━━━━━━━━━━━━━━━━━━\u001b[0m \u001b[32m308.5/308.5 kB\u001b[0m \u001b[31m31.9 MB/s\u001b[0m eta \u001b[36m0:00:00\u001b[0m\n",
            "\u001b[?25hCollecting langchain-text-splitters<0.3.0,>=0.2.0 (from langchain)\n",
            "  Downloading langchain_text_splitters-0.2.0-py3-none-any.whl (23 kB)\n",
            "Collecting langsmith<0.2.0,>=0.1.17 (from langchain)\n",
            "  Downloading langsmith-0.1.60-py3-none-any.whl (121 kB)\n",
            "\u001b[2K     \u001b[90m━━━━━━━━━━━━━━━━━━━━━━━━━━━━━━━━━━━━━━━━\u001b[0m \u001b[32m121.4/121.4 kB\u001b[0m \u001b[31m17.1 MB/s\u001b[0m eta \u001b[36m0:00:00\u001b[0m\n",
            "\u001b[?25hRequirement already satisfied: numpy<2,>=1 in /usr/local/lib/python3.10/dist-packages (from langchain) (1.25.2)\n",
            "Requirement already satisfied: requests<3,>=2 in /usr/local/lib/python3.10/dist-packages (from langchain) (2.31.0)\n",
            "Requirement already satisfied: tenacity<9.0.0,>=8.1.0 in /usr/local/lib/python3.10/dist-packages (from langchain) (8.3.0)\n",
            "Collecting tiktoken<1,>=0.7 (from langchain_openai)\n",
            "  Downloading tiktoken-0.7.0-cp310-cp310-manylinux_2_17_x86_64.manylinux2014_x86_64.whl (1.1 MB)\n",
            "\u001b[2K     \u001b[90m━━━━━━━━━━━━━━━━━━━━━━━━━━━━━━━━━━━━━━━━\u001b[0m \u001b[32m1.1/1.1 MB\u001b[0m \u001b[31m45.3 MB/s\u001b[0m eta \u001b[36m0:00:00\u001b[0m\n",
            "\u001b[?25hRequirement already satisfied: pytz in /usr/local/lib/python3.10/dist-packages (from neo4j) (2023.4)\n",
            "Requirement already satisfied: chardet in /usr/local/lib/python3.10/dist-packages (from unstructured) (5.2.0)\n",
            "Collecting filetype (from unstructured)\n",
            "  Downloading filetype-1.2.0-py2.py3-none-any.whl (19 kB)\n",
            "Collecting python-magic (from unstructured)\n",
            "  Downloading python_magic-0.4.27-py2.py3-none-any.whl (13 kB)\n",
            "Requirement already satisfied: lxml in /usr/local/lib/python3.10/dist-packages (from unstructured) (4.9.4)\n",
            "Requirement already satisfied: nltk in /usr/local/lib/python3.10/dist-packages (from unstructured) (3.8.1)\n",
            "Requirement already satisfied: tabulate in /usr/local/lib/python3.10/dist-packages (from unstructured) (0.9.0)\n",
            "Requirement already satisfied: beautifulsoup4 in /usr/local/lib/python3.10/dist-packages (from unstructured) (4.12.3)\n",
            "Collecting emoji (from unstructured)\n",
            "  Downloading emoji-2.12.1-py3-none-any.whl (431 kB)\n",
            "\u001b[2K     \u001b[90m━━━━━━━━━━━━━━━━━━━━━━━━━━━━━━━━━━━━━━━━\u001b[0m \u001b[32m431.4/431.4 kB\u001b[0m \u001b[31m43.7 MB/s\u001b[0m eta \u001b[36m0:00:00\u001b[0m\n",
            "\u001b[?25hCollecting python-iso639 (from unstructured)\n",
            "  Downloading python_iso639-2024.4.27-py3-none-any.whl (274 kB)\n",
            "\u001b[2K     \u001b[90m━━━━━━━━━━━━━━━━━━━━━━━━━━━━━━━━━━━━━━━━\u001b[0m \u001b[32m274.7/274.7 kB\u001b[0m \u001b[31m32.4 MB/s\u001b[0m eta \u001b[36m0:00:00\u001b[0m\n",
            "\u001b[?25hCollecting langdetect (from unstructured)\n",
            "  Downloading langdetect-1.0.9.tar.gz (981 kB)\n",
            "\u001b[2K     \u001b[90m━━━━━━━━━━━━━━━━━━━━━━━━━━━━━━━━━━━━━━━━\u001b[0m \u001b[32m981.5/981.5 kB\u001b[0m \u001b[31m60.1 MB/s\u001b[0m eta \u001b[36m0:00:00\u001b[0m\n",
            "\u001b[?25h  Preparing metadata (setup.py) ... \u001b[?25l\u001b[?25hdone\n",
            "Collecting rapidfuzz (from unstructured)\n",
            "  Downloading rapidfuzz-3.9.1-cp310-cp310-manylinux_2_17_x86_64.manylinux2014_x86_64.whl (3.4 MB)\n",
            "\u001b[2K     \u001b[90m━━━━━━━━━━━━━━━━━━━━━━━━━━━━━━━━━━━━━━━━\u001b[0m \u001b[32m3.4/3.4 MB\u001b[0m \u001b[31m79.9 MB/s\u001b[0m eta \u001b[36m0:00:00\u001b[0m\n",
            "\u001b[?25hCollecting backoff (from unstructured)\n",
            "  Downloading backoff-2.2.1-py3-none-any.whl (15 kB)\n",
            "Collecting unstructured-client (from unstructured)\n",
            "  Downloading unstructured_client-0.22.0-py3-none-any.whl (28 kB)\n",
            "Requirement already satisfied: wrapt in /usr/local/lib/python3.10/dist-packages (from unstructured) (1.14.1)\n",
            "Requirement already satisfied: aiosignal>=1.1.2 in /usr/local/lib/python3.10/dist-packages (from aiohttp<4.0.0,>=3.8.3->langchain) (1.3.1)\n",
            "Requirement already satisfied: attrs>=17.3.0 in /usr/local/lib/python3.10/dist-packages (from aiohttp<4.0.0,>=3.8.3->langchain) (23.2.0)\n",
            "Requirement already satisfied: frozenlist>=1.1.1 in /usr/local/lib/python3.10/dist-packages (from aiohttp<4.0.0,>=3.8.3->langchain) (1.4.1)\n",
            "Requirement already satisfied: multidict<7.0,>=4.5 in /usr/local/lib/python3.10/dist-packages (from aiohttp<4.0.0,>=3.8.3->langchain) (6.0.5)\n",
            "Requirement already satisfied: yarl<2.0,>=1.0 in /usr/local/lib/python3.10/dist-packages (from aiohttp<4.0.0,>=3.8.3->langchain) (1.9.4)\n",
            "Requirement already satisfied: idna>=2.8 in /usr/local/lib/python3.10/dist-packages (from anyio<5,>=3.5.0->openai) (3.7)\n",
            "Requirement already satisfied: exceptiongroup in /usr/local/lib/python3.10/dist-packages (from anyio<5,>=3.5.0->openai) (1.2.1)\n",
            "Collecting marshmallow<4.0.0,>=3.18.0 (from dataclasses-json<0.7,>=0.5.7->langchain)\n",
            "  Downloading marshmallow-3.21.2-py3-none-any.whl (49 kB)\n",
            "\u001b[2K     \u001b[90m━━━━━━━━━━━━━━━━━━━━━━━━━━━━━━━━━━━━━━━━\u001b[0m \u001b[32m49.3/49.3 kB\u001b[0m \u001b[31m7.1 MB/s\u001b[0m eta \u001b[36m0:00:00\u001b[0m\n",
            "\u001b[?25hCollecting typing-inspect<1,>=0.4.0 (from dataclasses-json<0.7,>=0.5.7->langchain)\n",
            "  Downloading typing_inspect-0.9.0-py3-none-any.whl (8.8 kB)\n",
            "Requirement already satisfied: certifi in /usr/local/lib/python3.10/dist-packages (from httpx<1,>=0.23.0->openai) (2024.2.2)\n",
            "Collecting httpcore==1.* (from httpx<1,>=0.23.0->openai)\n",
            "  Downloading httpcore-1.0.5-py3-none-any.whl (77 kB)\n",
            "\u001b[2K     \u001b[90m━━━━━━━━━━━━━━━━━━━━━━━━━━━━━━━━━━━━━━━━\u001b[0m \u001b[32m77.9/77.9 kB\u001b[0m \u001b[31m10.6 MB/s\u001b[0m eta \u001b[36m0:00:00\u001b[0m\n",
            "\u001b[?25hCollecting h11<0.15,>=0.13 (from httpcore==1.*->httpx<1,>=0.23.0->openai)\n",
            "  Downloading h11-0.14.0-py3-none-any.whl (58 kB)\n",
            "\u001b[2K     \u001b[90m━━━━━━━━━━━━━━━━━━━━━━━━━━━━━━━━━━━━━━━━\u001b[0m \u001b[32m58.3/58.3 kB\u001b[0m \u001b[31m7.7 MB/s\u001b[0m eta \u001b[36m0:00:00\u001b[0m\n",
            "\u001b[?25hCollecting jsonpatch<2.0,>=1.33 (from langchain-core<0.3.0,>=0.2.0->langchain)\n",
            "  Downloading jsonpatch-1.33-py2.py3-none-any.whl (12 kB)\n",
            "Collecting packaging<24.0,>=23.2 (from langchain-core<0.3.0,>=0.2.0->langchain)\n",
            "  Downloading packaging-23.2-py3-none-any.whl (53 kB)\n",
            "\u001b[2K     \u001b[90m━━━━━━━━━━━━━━━━━━━━━━━━━━━━━━━━━━━━━━━━\u001b[0m \u001b[32m53.0/53.0 kB\u001b[0m \u001b[31m5.5 MB/s\u001b[0m eta \u001b[36m0:00:00\u001b[0m\n",
            "\u001b[?25hCollecting orjson<4.0.0,>=3.9.14 (from langsmith<0.2.0,>=0.1.17->langchain)\n",
            "  Downloading orjson-3.10.3-cp310-cp310-manylinux_2_17_x86_64.manylinux2014_x86_64.whl (142 kB)\n",
            "\u001b[2K     \u001b[90m━━━━━━━━━━━━━━━━━━━━━━━━━━━━━━━━━━━━━━━━\u001b[0m \u001b[32m142.5/142.5 kB\u001b[0m \u001b[31m14.0 MB/s\u001b[0m eta \u001b[36m0:00:00\u001b[0m\n",
            "\u001b[?25hRequirement already satisfied: annotated-types>=0.4.0 in /usr/local/lib/python3.10/dist-packages (from pydantic<3,>=1.9.0->openai) (0.6.0)\n",
            "Requirement already satisfied: pydantic-core==2.18.2 in /usr/local/lib/python3.10/dist-packages (from pydantic<3,>=1.9.0->openai) (2.18.2)\n",
            "Requirement already satisfied: charset-normalizer<4,>=2 in /usr/local/lib/python3.10/dist-packages (from requests<3,>=2->langchain) (3.3.2)\n",
            "Requirement already satisfied: urllib3<3,>=1.21.1 in /usr/local/lib/python3.10/dist-packages (from requests<3,>=2->langchain) (2.0.7)\n",
            "Requirement already satisfied: greenlet!=0.4.17 in /usr/local/lib/python3.10/dist-packages (from SQLAlchemy<3,>=1.4->langchain) (3.0.3)\n",
            "Requirement already satisfied: regex>=2022.1.18 in /usr/local/lib/python3.10/dist-packages (from tiktoken<1,>=0.7->langchain_openai) (2023.12.25)\n",
            "Requirement already satisfied: soupsieve>1.2 in /usr/local/lib/python3.10/dist-packages (from beautifulsoup4->unstructured) (2.5)\n",
            "Requirement already satisfied: six in /usr/local/lib/python3.10/dist-packages (from langdetect->unstructured) (1.16.0)\n",
            "Requirement already satisfied: click in /usr/local/lib/python3.10/dist-packages (from nltk->unstructured) (8.1.7)\n",
            "Requirement already satisfied: joblib in /usr/local/lib/python3.10/dist-packages (from nltk->unstructured) (1.4.2)\n",
            "Collecting deepdiff>=6.0 (from unstructured-client->unstructured)\n",
            "  Downloading deepdiff-7.0.1-py3-none-any.whl (80 kB)\n",
            "\u001b[2K     \u001b[90m━━━━━━━━━━━━━━━━━━━━━━━━━━━━━━━━━━━━━━━━\u001b[0m \u001b[32m80.8/80.8 kB\u001b[0m \u001b[31m10.2 MB/s\u001b[0m eta \u001b[36m0:00:00\u001b[0m\n",
            "\u001b[?25hCollecting jsonpath-python>=1.0.6 (from unstructured-client->unstructured)\n",
            "  Downloading jsonpath_python-1.0.6-py3-none-any.whl (7.6 kB)\n",
            "Collecting mypy-extensions>=1.0.0 (from unstructured-client->unstructured)\n",
            "  Downloading mypy_extensions-1.0.0-py3-none-any.whl (4.7 kB)\n",
            "Collecting pypdf>=4.0 (from unstructured-client->unstructured)\n",
            "  Downloading pypdf-4.2.0-py3-none-any.whl (290 kB)\n",
            "\u001b[2K     \u001b[90m━━━━━━━━━━━━━━━━━━━━━━━━━━━━━━━━━━━━━━━━\u001b[0m \u001b[32m290.4/290.4 kB\u001b[0m \u001b[31m24.7 MB/s\u001b[0m eta \u001b[36m0:00:00\u001b[0m\n",
            "\u001b[?25hRequirement already satisfied: python-dateutil>=2.8.2 in /usr/local/lib/python3.10/dist-packages (from unstructured-client->unstructured) (2.8.2)\n",
            "Collecting ordered-set<4.2.0,>=4.1.0 (from deepdiff>=6.0->unstructured-client->unstructured)\n",
            "  Downloading ordered_set-4.1.0-py3-none-any.whl (7.6 kB)\n",
            "Collecting jsonpointer>=1.9 (from jsonpatch<2.0,>=1.33->langchain-core<0.3.0,>=0.2.0->langchain)\n",
            "  Downloading jsonpointer-2.4-py2.py3-none-any.whl (7.8 kB)\n",
            "Building wheels for collected packages: neo4j, langdetect\n",
            "  Building wheel for neo4j (pyproject.toml) ... \u001b[?25l\u001b[?25hdone\n",
            "  Created wheel for neo4j: filename=neo4j-5.20.0-py3-none-any.whl size=280771 sha256=e69755e99ae97a593148043da9ecb7e897bc1e001fdabe3cc544169a76f68e19\n",
            "  Stored in directory: /root/.cache/pip/wheels/cb/12/66/764554d079caad4b9a11a02cfc0d200dd876d12935b9cf7e64\n",
            "  Building wheel for langdetect (setup.py) ... \u001b[?25l\u001b[?25hdone\n",
            "  Created wheel for langdetect: filename=langdetect-1.0.9-py3-none-any.whl size=993227 sha256=42886dd4f1a13a36f390b734c70c1895e8325686e8bf3145500c76730dcbcdb0\n",
            "  Stored in directory: /root/.cache/pip/wheels/95/03/7d/59ea870c70ce4e5a370638b5462a7711ab78fba2f655d05106\n",
            "Successfully built neo4j langdetect\n",
            "Installing collected packages: filetype, rapidfuzz, python-magic, python-iso639, pypdf, packaging, orjson, ordered-set, neo4j, mypy-extensions, langdetect, jsonpointer, jsonpath-python, h11, emoji, backoff, typing-inspect, tiktoken, marshmallow, jsonpatch, httpcore, deepdiff, langsmith, httpx, dataclasses-json, unstructured-client, openai, langchain-core, unstructured, langchain-text-splitters, langchain_openai, langchain, langchain-community, langchain-experimental\n",
            "  Attempting uninstall: packaging\n",
            "    Found existing installation: packaging 24.0\n",
            "    Uninstalling packaging-24.0:\n",
            "      Successfully uninstalled packaging-24.0\n",
            "Successfully installed backoff-2.2.1 dataclasses-json-0.6.6 deepdiff-7.0.1 emoji-2.12.1 filetype-1.2.0 h11-0.14.0 httpcore-1.0.5 httpx-0.27.0 jsonpatch-1.33 jsonpath-python-1.0.6 jsonpointer-2.4 langchain-0.2.0 langchain-community-0.2.0 langchain-core-0.2.1 langchain-experimental-0.0.59 langchain-text-splitters-0.2.0 langchain_openai-0.1.7 langdetect-1.0.9 langsmith-0.1.60 marshmallow-3.21.2 mypy-extensions-1.0.0 neo4j-5.20.0 openai-1.30.1 ordered-set-4.1.0 orjson-3.10.3 packaging-23.2 pypdf-4.2.0 python-iso639-2024.4.27 python-magic-0.4.27 rapidfuzz-3.9.1 tiktoken-0.7.0 typing-inspect-0.9.0 unstructured-0.14.0 unstructured-client-0.22.0\n"
          ]
        }
      ],
      "source": [
        "!pip install openai langchain langchain_openai langchain-experimental langchain-community neo4j unstructured"
      ]
    },
    {
      "cell_type": "markdown",
      "source": [
        "## Imports"
      ],
      "metadata": {
        "id": "YdJZAXdXhhwg"
      }
    },
    {
      "cell_type": "code",
      "source": [
        "from langchain_openai import ChatOpenAI\n",
        "from langchain_community.graphs import Neo4jGraph\n",
        "from langchain.text_splitter import CharacterTextSplitter\n",
        "from langchain_experimental.graph_transformers import LLMGraphTransformer\n",
        "from langchain_core.documents import Document\n",
        "from langchain_community.document_loaders import DirectoryLoader\n",
        "from google.colab import userdata\n",
        "import os"
      ],
      "metadata": {
        "id": "zJxpg4VZAGgz"
      },
      "execution_count": null,
      "outputs": []
    },
    {
      "cell_type": "markdown",
      "source": [
        "## Neo4J Access Parameters"
      ],
      "metadata": {
        "id": "sV2UdZGqtKOn"
      }
    },
    {
      "cell_type": "code",
      "source": [
        "graph = Neo4jGraph(\n",
        "    url = \"neo4j+s://bfe69ea7.databases.neo4j.io\",\n",
        "    username = \"neo4j\",\n",
        "    password = \"HOrQGwpFjiNH0TWGQV2N7Vs7lzoNg1YsupEHY3Bu7ks\"\n",
        ")"
      ],
      "metadata": {
        "id": "WsqVcyI0A6Rc"
      },
      "execution_count": null,
      "outputs": []
    },
    {
      "cell_type": "markdown",
      "source": [
        "## OpenAI Access API and Chat Parameters"
      ],
      "metadata": {
        "id": "d1JdyRuRtMpS"
      }
    },
    {
      "cell_type": "code",
      "source": [
        "os.environ[\"OPENAI_API_KEY\"] = userdata.get(\"OPENAI_APIKEY\")"
      ],
      "metadata": {
        "id": "17UyBoChBQlw"
      },
      "execution_count": null,
      "outputs": []
    },
    {
      "cell_type": "code",
      "source": [
        "llm = ChatOpenAI(temperature = 0)\n",
        "llm_transf = LLMGraphTransformer(llm = llm)"
      ],
      "metadata": {
        "id": "NtpSkkKABzqd"
      },
      "execution_count": null,
      "outputs": []
    },
    {
      "cell_type": "code",
      "source": [
        "loader = DirectoryLoader('/content/Textdata')"
      ],
      "metadata": {
        "id": "DfP6m8PuBmWH"
      },
      "execution_count": null,
      "outputs": []
    },
    {
      "cell_type": "code",
      "source": [
        "text_splitter = CharacterTextSplitter.from_tiktoken_encoder(\n",
        "    chunk_size = 1000, chunk_overlap = 20\n",
        ")"
      ],
      "metadata": {
        "id": "RTw_S7zmZGHv"
      },
      "execution_count": null,
      "outputs": []
    },
    {
      "cell_type": "code",
      "source": [
        "documents = text_splitter.split_documents(loader.load())\n",
        "for d in documents:\n",
        "  del d.metadata['source']"
      ],
      "metadata": {
        "id": "Oj3ZaHyIZGFY",
        "colab": {
          "base_uri": "https://localhost:8080/"
        },
        "outputId": "daef3af5-6166-45ff-ac97-e7dc4fcf3559"
      },
      "execution_count": null,
      "outputs": [
        {
          "output_type": "stream",
          "name": "stderr",
          "text": [
            "[nltk_data] Downloading package punkt to /root/nltk_data...\n",
            "[nltk_data]   Unzipping tokenizers/punkt.zip.\n",
            "[nltk_data] Downloading package averaged_perceptron_tagger to\n",
            "[nltk_data]     /root/nltk_data...\n",
            "[nltk_data]   Unzipping taggers/averaged_perceptron_tagger.zip.\n"
          ]
        }
      ]
    },
    {
      "cell_type": "code",
      "source": [
        "graph_documents = llm_transf.convert_to_graph_documents(documents)\n",
        "print(f\"Nodes:{graph_documents[0].nodes}\")\n",
        "print(f\"Relationships:{graph_documents[0].relationships}\")"
      ],
      "metadata": {
        "colab": {
          "base_uri": "https://localhost:8080/"
        },
        "id": "WFQo_u2IfcyY",
        "outputId": "acf96b20-dd8f-47f8-febc-2f643cdb8328"
      },
      "execution_count": null,
      "outputs": [
        {
          "output_type": "stream",
          "name": "stdout",
          "text": [
            "Nodes:[]\n",
            "Relationships:[]\n"
          ]
        }
      ]
    },
    {
      "cell_type": "code",
      "source": [
        "graph.add_graph_documents(graph_documents)"
      ],
      "metadata": {
        "id": "sS2s0O6nfcro"
      },
      "execution_count": null,
      "outputs": []
    },
    {
      "cell_type": "code",
      "source": [
        "graph.query(\"\"\"\n",
        "MATCH (n:Person) RETURN n\n",
        "\"\"\")"
      ],
      "metadata": {
        "id": "SU2kOVccV3AR",
        "colab": {
          "base_uri": "https://localhost:8080/"
        },
        "outputId": "5da1d027-6801-4291-ab41-3c8d03ddc2b2"
      },
      "execution_count": null,
      "outputs": [
        {
          "output_type": "execute_result",
          "data": {
            "text/plain": [
              "[{'n': {'id': 'Ned'}},\n",
              " {'n': {'id': 'Robert'}},\n",
              " {'n': {'id': 'Daenerys Targaryen'}},\n",
              " {'n': {'id': 'Jaime'}},\n",
              " {'n': {'id': 'Tyrion'}},\n",
              " {'n': {'id': 'Catelyn'}},\n",
              " {'n': {'id': 'Lysa Arryn'}},\n",
              " {'n': {'id': 'Viserys'}},\n",
              " {'n': {'id': 'Khal Drogo'}},\n",
              " {'n': {'id': 'Joffrey'}},\n",
              " {'n': {'id': 'Cersei'}},\n",
              " {'n': {'id': 'Jon'}},\n",
              " {'n': {'id': 'Stannis'}},\n",
              " {'n': {'id': 'Littlefinger'}},\n",
              " {'n': {'id': 'Tywin Lannister'}},\n",
              " {'n': {'id': 'Robb Stark'}},\n",
              " {'n': {'id': 'Arya'}},\n",
              " {'n': {'id': 'Sansa'}},\n",
              " {'n': {'id': 'Knight'}},\n",
              " {'n': {'id': 'Mercenary'}},\n",
              " {'n': {'id': 'Father'}},\n",
              " {'n': {'id': 'Brother'}},\n",
              " {'n': {'id': 'Friends'}},\n",
              " {'n': {'id': 'Drogo'}},\n",
              " {'n': {'id': 'Daenerys'}},\n",
              " {'n': {'id': 'Village Woman'}},\n",
              " {'n': {'id': 'Child'}},\n",
              " {'n': {'id': 'Ser Jorah Mormont'}},\n",
              " {'n': {'id': 'Warriors'}},\n",
              " {'n': {'id': 'Sick And Old'}}]"
            ]
          },
          "metadata": {},
          "execution_count": 15
        }
      ]
    },
    {
      "cell_type": "code",
      "source": [
        "graph.schema"
      ],
      "metadata": {
        "colab": {
          "base_uri": "https://localhost:8080/",
          "height": 122
        },
        "id": "74sbHQogu8S8",
        "outputId": "f7f00c0d-3bb5-41e8-fbc7-4e4f36c35492"
      },
      "execution_count": null,
      "outputs": [
        {
          "output_type": "execute_result",
          "data": {
            "text/plain": [
              "'Node properties:\\nBook {id: STRING}\\nContinent {id: STRING}\\nPerson {id: STRING}\\nFamily {id: STRING}\\nCastle {id: STRING}\\nPosition {id: STRING}\\nGroup {id: STRING}\\nStructure {id: STRING}\\nPeople {id: STRING}\\nAnimal {id: STRING}\\nEvent {id: STRING}\\nDirection {id: STRING}\\nCreature {id: STRING}\\nObject {id: STRING}\\nInterest {id: STRING}\\nLocation {id: STRING}\\nActivity {id: STRING}\\nPlace {id: STRING}\\nAction {id: STRING}\\nRelationship properties:\\n\\nThe relationships:\\n(:Book)-[:SETTING]->(:Continent)\\n(:Person)-[:REQUEST_FOR_ASSISTANCE]->(:Person)\\n(:Person)-[:VISIT]->(:Castle)\\n(:Person)-[:VISIT]->(:Person)\\n(:Person)-[:VISIT]->(:Structure)\\n(:Person)-[:RELATIONSHIP]->(:Person)\\n(:Person)-[:ARRIVAL_WITH_QUEEN]->(:Person)\\n(:Person)-[:OFFER_FOR_POSITION]->(:Person)\\n(:Person)-[:DESTINATION]->(:Location)\\n(:Person)-[:PROMISE]->(:Event)\\n(:Person)-[:ACCEPTANCE]->(:Position)\\n(:Person)-[:DEPARTURE]->(:Castle)\\n(:Person)-[:JOURNEY_START]->(:Direction)\\n(:Person)-[:ARRIVAL]->(:Location)\\n(:Person)-[:DEATH]->(:Event)\\n(:Person)-[:DEATH_DETAILS]->(:Event)\\n(:Person)-[:INVESTIGATION_START]->(:Event)\\n(:Person)-[:POSSESSION]->(:Object)\\n(:Person)-[:ACCUSATION]->(:Family)\\n(:Person)-[:ACCUSATION]->(:Person)\\n(:Person)-[:ACCOMPANIES]->(:Person)\\n(:Person)-[:DISCOVERY_OF_RELATIONSHIP]->(:Person)\\n(:Person)-[:INCIDENT]->(:Event)\\n(:Person)-[:SERVICE]->(:Structure)\\n(:Person)-[:MARRIAGE]->(:Person)\\n(:Person)-[:FAMILY_RELATION]->(:Person)\\n(:Person)-[:FAMILY_BACKGROUND]->(:Family)\\n(:Person)-[:FAMILY_SYMBOL]->(:Creature)\\n(:Person)-[:GIFT]->(:Object)\\n(:Person)-[:REACTION]->(:Interest)\\n(:Person)-[:KILLING]->(:Person)\\n(:Person)-[:KILLING]->(:Creature)\\n(:Person)-[:PROTECTION]->(:Person)\\n(:Person)-[:ANGER]->(:Person)\\n(:Person)-[:ATTACK]->(:Person)\\n(:Person)-[:BACKGROUND]->(:Event)\\n(:Person)-[:COMMITMENT]->(:Event)\\n(:Person)-[:OBSERVATION]->(:Group)\\n(:Person)-[:PRACTICE]->(:Activity)\\n(:Person)-[:COMPANION]->(:Animal)\\n(:Person)-[:ESCAPE]->(:Place)\\n(:Person)-[:AFFECTION]->(:Person)\\n(:Person)-[:FUTURE_MARRIAGE]->(:Person)\\n(:Person)-[:CORONATION]->(:Position)\\n(:Person)-[:FAILED_ATTEMPT]->(:Event)\\n(:Person)-[:RECOGNITION]->(:Event)\\n(:Person)-[:BETRAYAL]->(:Person)\\n(:Person)-[:ORDER]->(:Event)\\n(:Person)-[:HOSTAGE]->(:Person)\\n(:Person)-[:IMPRISONMENT]->(:Person)\\n(:Person)-[:HOLDS_POSITION]->(:Position)\\n(:Person)-[:RELATION]->(:Person)\\n(:Person)-[:CONFRONTATION]->(:Person)\\n(:Person)-[:CONFRONTATION]->(:Group)\\n(:Person)-[:EXECUTION]->(:Person)\\n(:Person)-[:PUBLIC]->(:Action)\\n(:Person)-[:SACRIFICE]->(:Action)\\n(:Person)-[:HEIR]->(:Person)\\n(:Person)-[:SECRET]->(:Person)\\n(:Person)-[:SUPPORT]->(:Person)\\n(:Person)-[:REQUEST]->(:Person)\\n(:Person)-[:REINSTATEMENT]->(:Person)\\n(:Person)-[:NAMING]->(:Person)\\n(:Person)-[:INJURES]->(:Person)\\n(:Person)-[:VICTORY]->(:Person)\\n(:Person)-[:ALLIANCE]->(:Group)\\n(:Person)-[:MURDER]->(:Person)\\n(:Person)-[:DENIAL]->(:Person)\\n(:Person)-[:DEMAND]->(:Person)\\n(:Person)-[:TRIAL]->(:Person)\\n(:Person)-[:FAMILY_RELATIONSHIP]->(:Person)\\n(:Person)-[:DESERTEMENT]->(:Location)\\n(:Person)-[:DISCOVERY]->(:Object)\\n(:Person)-[:BRINGING]->(:Object)\\n(:Person)-[:FIGHT]->(:Creature)\\n(:Person)-[:WAR]->(:Person)\\n(:Person)-[:DEFEAT]->(:Group)\\n(:Person)-[:CAPTURE]->(:Person)\\n(:Person)-[:TREATMENT]->(:Person)\\n(:Person)-[:CONFLICT]->(:Group)\\n(:Person)-[:TRUSTED_ADVISOR]->(:Person)\\n(:Person)-[:ABANDONMENT]->(:Person)\\n(:Person)-[:PLACEMENT]->(:Object)\\n(:Person)-[:BIRTH]->(:Animal)\\n(:Group)-[:SITUATION_UPDATE]->(:Event)\\n(:Object)-[:ATTACK]->(:Person)'"
            ],
            "application/vnd.google.colaboratory.intrinsic+json": {
              "type": "string"
            }
          },
          "metadata": {},
          "execution_count": 16
        }
      ]
    },
    {
      "cell_type": "markdown",
      "source": [
        "## GraphCypherQAChain Usage"
      ],
      "metadata": {
        "id": "CBVFvCCqxd9h"
      }
    },
    {
      "cell_type": "code",
      "source": [
        "from langchain.chains import GraphCypherQAChain\n",
        "llm = ChatOpenAI(temperature = 0)\n",
        "chain = GraphCypherQAChain.from_llm(\n",
        "    graph=graph, llm=llm, verbose=True\n",
        ")"
      ],
      "metadata": {
        "id": "tOGWCIh7wdTC"
      },
      "execution_count": null,
      "outputs": []
    },
    {
      "cell_type": "code",
      "source": [
        "chain.invoke(\"Who are the different persons?\")"
      ],
      "metadata": {
        "colab": {
          "base_uri": "https://localhost:8080/"
        },
        "id": "f_fb3ZSTwsLx",
        "outputId": "ccc4bf55-0334-4caa-9bbb-e128bb3618fa"
      },
      "execution_count": null,
      "outputs": [
        {
          "output_type": "stream",
          "name": "stdout",
          "text": [
            "\n",
            "\n",
            "\u001b[1m> Entering new GraphCypherQAChain chain...\u001b[0m\n",
            "Generated Cypher:\n",
            "\u001b[32;1m\u001b[1;3mMATCH (p:Person)\n",
            "RETURN p.id;\u001b[0m\n",
            "Full Context:\n",
            "\u001b[32;1m\u001b[1;3m[{'p.id': 'Ned'}, {'p.id': 'Robert'}, {'p.id': 'Daenerys Targaryen'}, {'p.id': 'Jaime'}, {'p.id': 'Tyrion'}, {'p.id': 'Catelyn'}, {'p.id': 'Lysa Arryn'}, {'p.id': 'Viserys'}, {'p.id': 'Khal Drogo'}, {'p.id': 'Joffrey'}]\u001b[0m\n",
            "\n",
            "\u001b[1m> Finished chain.\u001b[0m\n"
          ]
        },
        {
          "output_type": "execute_result",
          "data": {
            "text/plain": [
              "{'query': 'Who are the different persons?',\n",
              " 'result': 'Ned, Robert, Daenerys Targaryen, Jaime, Tyrion, Catelyn, Lysa Arryn, Viserys, Khal Drogo, Joffrey'}"
            ]
          },
          "metadata": {},
          "execution_count": 21
        }
      ]
    },
    {
      "cell_type": "code",
      "source": [],
      "metadata": {
        "id": "XEo2LRBBw45h"
      },
      "execution_count": null,
      "outputs": []
    }
  ]
}