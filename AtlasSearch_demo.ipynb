{
  "nbformat": 4,
  "nbformat_minor": 0,
  "metadata": {
    "colab": {
      "provenance": []
    },
    "kernelspec": {
      "name": "python3",
      "display_name": "Python 3"
    },
    "language_info": {
      "name": "python"
    },
    "widgets": {
      "application/vnd.jupyter.widget-state+json": {
        "379e6532d6e24e7d80beda4f681fba1e": {
          "model_module": "@jupyter-widgets/controls",
          "model_name": "HBoxModel",
          "model_module_version": "1.5.0",
          "state": {
            "_dom_classes": [],
            "_model_module": "@jupyter-widgets/controls",
            "_model_module_version": "1.5.0",
            "_model_name": "HBoxModel",
            "_view_count": null,
            "_view_module": "@jupyter-widgets/controls",
            "_view_module_version": "1.5.0",
            "_view_name": "HBoxView",
            "box_style": "",
            "children": [
              "IPY_MODEL_0b85783b88b64534989d94606a500e05",
              "IPY_MODEL_be146ef23d70463c9fdd89c5cdd403c6",
              "IPY_MODEL_b5163e1ab5714eafb5a35f96ffcdd819"
            ],
            "layout": "IPY_MODEL_0dfbc852d1384a75aa9d6eee97f4f1f4"
          }
        },
        "0b85783b88b64534989d94606a500e05": {
          "model_module": "@jupyter-widgets/controls",
          "model_name": "HTMLModel",
          "model_module_version": "1.5.0",
          "state": {
            "_dom_classes": [],
            "_model_module": "@jupyter-widgets/controls",
            "_model_module_version": "1.5.0",
            "_model_name": "HTMLModel",
            "_view_count": null,
            "_view_module": "@jupyter-widgets/controls",
            "_view_module_version": "1.5.0",
            "_view_name": "HTMLView",
            "description": "",
            "description_tooltip": null,
            "layout": "IPY_MODEL_82d6e22f4d544e35a4d903bcfd25edd2",
            "placeholder": "​",
            "style": "IPY_MODEL_e6600009e6254e319d75cfb9bea58e2e",
            "value": "Parsing nodes: 100%"
          }
        },
        "be146ef23d70463c9fdd89c5cdd403c6": {
          "model_module": "@jupyter-widgets/controls",
          "model_name": "FloatProgressModel",
          "model_module_version": "1.5.0",
          "state": {
            "_dom_classes": [],
            "_model_module": "@jupyter-widgets/controls",
            "_model_module_version": "1.5.0",
            "_model_name": "FloatProgressModel",
            "_view_count": null,
            "_view_module": "@jupyter-widgets/controls",
            "_view_module_version": "1.5.0",
            "_view_name": "ProgressView",
            "bar_style": "success",
            "description": "",
            "description_tooltip": null,
            "layout": "IPY_MODEL_75b9aa4a7e9746bf9d7404547804423b",
            "max": 14,
            "min": 0,
            "orientation": "horizontal",
            "style": "IPY_MODEL_1043974877b5477cbe1daff959498bf6",
            "value": 14
          }
        },
        "b5163e1ab5714eafb5a35f96ffcdd819": {
          "model_module": "@jupyter-widgets/controls",
          "model_name": "HTMLModel",
          "model_module_version": "1.5.0",
          "state": {
            "_dom_classes": [],
            "_model_module": "@jupyter-widgets/controls",
            "_model_module_version": "1.5.0",
            "_model_name": "HTMLModel",
            "_view_count": null,
            "_view_module": "@jupyter-widgets/controls",
            "_view_module_version": "1.5.0",
            "_view_name": "HTMLView",
            "description": "",
            "description_tooltip": null,
            "layout": "IPY_MODEL_ee2271d4d31b4fc4bf908eb646b56874",
            "placeholder": "​",
            "style": "IPY_MODEL_eb825abf8d7a45d6aa10968ada41ba91",
            "value": " 14/14 [00:00&lt;00:00, 115.11it/s]"
          }
        },
        "0dfbc852d1384a75aa9d6eee97f4f1f4": {
          "model_module": "@jupyter-widgets/base",
          "model_name": "LayoutModel",
          "model_module_version": "1.2.0",
          "state": {
            "_model_module": "@jupyter-widgets/base",
            "_model_module_version": "1.2.0",
            "_model_name": "LayoutModel",
            "_view_count": null,
            "_view_module": "@jupyter-widgets/base",
            "_view_module_version": "1.2.0",
            "_view_name": "LayoutView",
            "align_content": null,
            "align_items": null,
            "align_self": null,
            "border": null,
            "bottom": null,
            "display": null,
            "flex": null,
            "flex_flow": null,
            "grid_area": null,
            "grid_auto_columns": null,
            "grid_auto_flow": null,
            "grid_auto_rows": null,
            "grid_column": null,
            "grid_gap": null,
            "grid_row": null,
            "grid_template_areas": null,
            "grid_template_columns": null,
            "grid_template_rows": null,
            "height": null,
            "justify_content": null,
            "justify_items": null,
            "left": null,
            "margin": null,
            "max_height": null,
            "max_width": null,
            "min_height": null,
            "min_width": null,
            "object_fit": null,
            "object_position": null,
            "order": null,
            "overflow": null,
            "overflow_x": null,
            "overflow_y": null,
            "padding": null,
            "right": null,
            "top": null,
            "visibility": null,
            "width": null
          }
        },
        "82d6e22f4d544e35a4d903bcfd25edd2": {
          "model_module": "@jupyter-widgets/base",
          "model_name": "LayoutModel",
          "model_module_version": "1.2.0",
          "state": {
            "_model_module": "@jupyter-widgets/base",
            "_model_module_version": "1.2.0",
            "_model_name": "LayoutModel",
            "_view_count": null,
            "_view_module": "@jupyter-widgets/base",
            "_view_module_version": "1.2.0",
            "_view_name": "LayoutView",
            "align_content": null,
            "align_items": null,
            "align_self": null,
            "border": null,
            "bottom": null,
            "display": null,
            "flex": null,
            "flex_flow": null,
            "grid_area": null,
            "grid_auto_columns": null,
            "grid_auto_flow": null,
            "grid_auto_rows": null,
            "grid_column": null,
            "grid_gap": null,
            "grid_row": null,
            "grid_template_areas": null,
            "grid_template_columns": null,
            "grid_template_rows": null,
            "height": null,
            "justify_content": null,
            "justify_items": null,
            "left": null,
            "margin": null,
            "max_height": null,
            "max_width": null,
            "min_height": null,
            "min_width": null,
            "object_fit": null,
            "object_position": null,
            "order": null,
            "overflow": null,
            "overflow_x": null,
            "overflow_y": null,
            "padding": null,
            "right": null,
            "top": null,
            "visibility": null,
            "width": null
          }
        },
        "e6600009e6254e319d75cfb9bea58e2e": {
          "model_module": "@jupyter-widgets/controls",
          "model_name": "DescriptionStyleModel",
          "model_module_version": "1.5.0",
          "state": {
            "_model_module": "@jupyter-widgets/controls",
            "_model_module_version": "1.5.0",
            "_model_name": "DescriptionStyleModel",
            "_view_count": null,
            "_view_module": "@jupyter-widgets/base",
            "_view_module_version": "1.2.0",
            "_view_name": "StyleView",
            "description_width": ""
          }
        },
        "75b9aa4a7e9746bf9d7404547804423b": {
          "model_module": "@jupyter-widgets/base",
          "model_name": "LayoutModel",
          "model_module_version": "1.2.0",
          "state": {
            "_model_module": "@jupyter-widgets/base",
            "_model_module_version": "1.2.0",
            "_model_name": "LayoutModel",
            "_view_count": null,
            "_view_module": "@jupyter-widgets/base",
            "_view_module_version": "1.2.0",
            "_view_name": "LayoutView",
            "align_content": null,
            "align_items": null,
            "align_self": null,
            "border": null,
            "bottom": null,
            "display": null,
            "flex": null,
            "flex_flow": null,
            "grid_area": null,
            "grid_auto_columns": null,
            "grid_auto_flow": null,
            "grid_auto_rows": null,
            "grid_column": null,
            "grid_gap": null,
            "grid_row": null,
            "grid_template_areas": null,
            "grid_template_columns": null,
            "grid_template_rows": null,
            "height": null,
            "justify_content": null,
            "justify_items": null,
            "left": null,
            "margin": null,
            "max_height": null,
            "max_width": null,
            "min_height": null,
            "min_width": null,
            "object_fit": null,
            "object_position": null,
            "order": null,
            "overflow": null,
            "overflow_x": null,
            "overflow_y": null,
            "padding": null,
            "right": null,
            "top": null,
            "visibility": null,
            "width": null
          }
        },
        "1043974877b5477cbe1daff959498bf6": {
          "model_module": "@jupyter-widgets/controls",
          "model_name": "ProgressStyleModel",
          "model_module_version": "1.5.0",
          "state": {
            "_model_module": "@jupyter-widgets/controls",
            "_model_module_version": "1.5.0",
            "_model_name": "ProgressStyleModel",
            "_view_count": null,
            "_view_module": "@jupyter-widgets/base",
            "_view_module_version": "1.2.0",
            "_view_name": "StyleView",
            "bar_color": null,
            "description_width": ""
          }
        },
        "ee2271d4d31b4fc4bf908eb646b56874": {
          "model_module": "@jupyter-widgets/base",
          "model_name": "LayoutModel",
          "model_module_version": "1.2.0",
          "state": {
            "_model_module": "@jupyter-widgets/base",
            "_model_module_version": "1.2.0",
            "_model_name": "LayoutModel",
            "_view_count": null,
            "_view_module": "@jupyter-widgets/base",
            "_view_module_version": "1.2.0",
            "_view_name": "LayoutView",
            "align_content": null,
            "align_items": null,
            "align_self": null,
            "border": null,
            "bottom": null,
            "display": null,
            "flex": null,
            "flex_flow": null,
            "grid_area": null,
            "grid_auto_columns": null,
            "grid_auto_flow": null,
            "grid_auto_rows": null,
            "grid_column": null,
            "grid_gap": null,
            "grid_row": null,
            "grid_template_areas": null,
            "grid_template_columns": null,
            "grid_template_rows": null,
            "height": null,
            "justify_content": null,
            "justify_items": null,
            "left": null,
            "margin": null,
            "max_height": null,
            "max_width": null,
            "min_height": null,
            "min_width": null,
            "object_fit": null,
            "object_position": null,
            "order": null,
            "overflow": null,
            "overflow_x": null,
            "overflow_y": null,
            "padding": null,
            "right": null,
            "top": null,
            "visibility": null,
            "width": null
          }
        },
        "eb825abf8d7a45d6aa10968ada41ba91": {
          "model_module": "@jupyter-widgets/controls",
          "model_name": "DescriptionStyleModel",
          "model_module_version": "1.5.0",
          "state": {
            "_model_module": "@jupyter-widgets/controls",
            "_model_module_version": "1.5.0",
            "_model_name": "DescriptionStyleModel",
            "_view_count": null,
            "_view_module": "@jupyter-widgets/base",
            "_view_module_version": "1.2.0",
            "_view_name": "StyleView",
            "description_width": ""
          }
        },
        "4c4ee11621b24f65bca4fb56a3c4f9dd": {
          "model_module": "@jupyter-widgets/controls",
          "model_name": "HBoxModel",
          "model_module_version": "1.5.0",
          "state": {
            "_dom_classes": [],
            "_model_module": "@jupyter-widgets/controls",
            "_model_module_version": "1.5.0",
            "_model_name": "HBoxModel",
            "_view_count": null,
            "_view_module": "@jupyter-widgets/controls",
            "_view_module_version": "1.5.0",
            "_view_name": "HBoxView",
            "box_style": "",
            "children": [
              "IPY_MODEL_a74e3eb8fe344bb29cd880fac06a20fe",
              "IPY_MODEL_a01ff7cb2388408693f6ed090acabf84",
              "IPY_MODEL_fabdeab2148243ff804337711327f6ad"
            ],
            "layout": "IPY_MODEL_63381738481f47e580f57233a8974ab0"
          }
        },
        "a74e3eb8fe344bb29cd880fac06a20fe": {
          "model_module": "@jupyter-widgets/controls",
          "model_name": "HTMLModel",
          "model_module_version": "1.5.0",
          "state": {
            "_dom_classes": [],
            "_model_module": "@jupyter-widgets/controls",
            "_model_module_version": "1.5.0",
            "_model_name": "HTMLModel",
            "_view_count": null,
            "_view_module": "@jupyter-widgets/controls",
            "_view_module_version": "1.5.0",
            "_view_name": "HTMLView",
            "description": "",
            "description_tooltip": null,
            "layout": "IPY_MODEL_2a043cec632b4c41acd494f73b2cda65",
            "placeholder": "​",
            "style": "IPY_MODEL_8abfa8b8428043ecbebd2dc3e2f709fa",
            "value": "Generating embeddings: 100%"
          }
        },
        "a01ff7cb2388408693f6ed090acabf84": {
          "model_module": "@jupyter-widgets/controls",
          "model_name": "FloatProgressModel",
          "model_module_version": "1.5.0",
          "state": {
            "_dom_classes": [],
            "_model_module": "@jupyter-widgets/controls",
            "_model_module_version": "1.5.0",
            "_model_name": "FloatProgressModel",
            "_view_count": null,
            "_view_module": "@jupyter-widgets/controls",
            "_view_module_version": "1.5.0",
            "_view_name": "ProgressView",
            "bar_style": "success",
            "description": "",
            "description_tooltip": null,
            "layout": "IPY_MODEL_d59ee0b722844869a4b8aaca30dcfae3",
            "max": 110,
            "min": 0,
            "orientation": "horizontal",
            "style": "IPY_MODEL_f15a20ec92fc45fcb49a3f02402392b1",
            "value": 110
          }
        },
        "fabdeab2148243ff804337711327f6ad": {
          "model_module": "@jupyter-widgets/controls",
          "model_name": "HTMLModel",
          "model_module_version": "1.5.0",
          "state": {
            "_dom_classes": [],
            "_model_module": "@jupyter-widgets/controls",
            "_model_module_version": "1.5.0",
            "_model_name": "HTMLModel",
            "_view_count": null,
            "_view_module": "@jupyter-widgets/controls",
            "_view_module_version": "1.5.0",
            "_view_name": "HTMLView",
            "description": "",
            "description_tooltip": null,
            "layout": "IPY_MODEL_3214bff449bf44ad85a43faa95d219c3",
            "placeholder": "​",
            "style": "IPY_MODEL_fd17f58cab1c4a2993d0a5e23b231448",
            "value": " 110/110 [00:01&lt;00:00, 112.16it/s]"
          }
        },
        "63381738481f47e580f57233a8974ab0": {
          "model_module": "@jupyter-widgets/base",
          "model_name": "LayoutModel",
          "model_module_version": "1.2.0",
          "state": {
            "_model_module": "@jupyter-widgets/base",
            "_model_module_version": "1.2.0",
            "_model_name": "LayoutModel",
            "_view_count": null,
            "_view_module": "@jupyter-widgets/base",
            "_view_module_version": "1.2.0",
            "_view_name": "LayoutView",
            "align_content": null,
            "align_items": null,
            "align_self": null,
            "border": null,
            "bottom": null,
            "display": null,
            "flex": null,
            "flex_flow": null,
            "grid_area": null,
            "grid_auto_columns": null,
            "grid_auto_flow": null,
            "grid_auto_rows": null,
            "grid_column": null,
            "grid_gap": null,
            "grid_row": null,
            "grid_template_areas": null,
            "grid_template_columns": null,
            "grid_template_rows": null,
            "height": null,
            "justify_content": null,
            "justify_items": null,
            "left": null,
            "margin": null,
            "max_height": null,
            "max_width": null,
            "min_height": null,
            "min_width": null,
            "object_fit": null,
            "object_position": null,
            "order": null,
            "overflow": null,
            "overflow_x": null,
            "overflow_y": null,
            "padding": null,
            "right": null,
            "top": null,
            "visibility": null,
            "width": null
          }
        },
        "2a043cec632b4c41acd494f73b2cda65": {
          "model_module": "@jupyter-widgets/base",
          "model_name": "LayoutModel",
          "model_module_version": "1.2.0",
          "state": {
            "_model_module": "@jupyter-widgets/base",
            "_model_module_version": "1.2.0",
            "_model_name": "LayoutModel",
            "_view_count": null,
            "_view_module": "@jupyter-widgets/base",
            "_view_module_version": "1.2.0",
            "_view_name": "LayoutView",
            "align_content": null,
            "align_items": null,
            "align_self": null,
            "border": null,
            "bottom": null,
            "display": null,
            "flex": null,
            "flex_flow": null,
            "grid_area": null,
            "grid_auto_columns": null,
            "grid_auto_flow": null,
            "grid_auto_rows": null,
            "grid_column": null,
            "grid_gap": null,
            "grid_row": null,
            "grid_template_areas": null,
            "grid_template_columns": null,
            "grid_template_rows": null,
            "height": null,
            "justify_content": null,
            "justify_items": null,
            "left": null,
            "margin": null,
            "max_height": null,
            "max_width": null,
            "min_height": null,
            "min_width": null,
            "object_fit": null,
            "object_position": null,
            "order": null,
            "overflow": null,
            "overflow_x": null,
            "overflow_y": null,
            "padding": null,
            "right": null,
            "top": null,
            "visibility": null,
            "width": null
          }
        },
        "8abfa8b8428043ecbebd2dc3e2f709fa": {
          "model_module": "@jupyter-widgets/controls",
          "model_name": "DescriptionStyleModel",
          "model_module_version": "1.5.0",
          "state": {
            "_model_module": "@jupyter-widgets/controls",
            "_model_module_version": "1.5.0",
            "_model_name": "DescriptionStyleModel",
            "_view_count": null,
            "_view_module": "@jupyter-widgets/base",
            "_view_module_version": "1.2.0",
            "_view_name": "StyleView",
            "description_width": ""
          }
        },
        "d59ee0b722844869a4b8aaca30dcfae3": {
          "model_module": "@jupyter-widgets/base",
          "model_name": "LayoutModel",
          "model_module_version": "1.2.0",
          "state": {
            "_model_module": "@jupyter-widgets/base",
            "_model_module_version": "1.2.0",
            "_model_name": "LayoutModel",
            "_view_count": null,
            "_view_module": "@jupyter-widgets/base",
            "_view_module_version": "1.2.0",
            "_view_name": "LayoutView",
            "align_content": null,
            "align_items": null,
            "align_self": null,
            "border": null,
            "bottom": null,
            "display": null,
            "flex": null,
            "flex_flow": null,
            "grid_area": null,
            "grid_auto_columns": null,
            "grid_auto_flow": null,
            "grid_auto_rows": null,
            "grid_column": null,
            "grid_gap": null,
            "grid_row": null,
            "grid_template_areas": null,
            "grid_template_columns": null,
            "grid_template_rows": null,
            "height": null,
            "justify_content": null,
            "justify_items": null,
            "left": null,
            "margin": null,
            "max_height": null,
            "max_width": null,
            "min_height": null,
            "min_width": null,
            "object_fit": null,
            "object_position": null,
            "order": null,
            "overflow": null,
            "overflow_x": null,
            "overflow_y": null,
            "padding": null,
            "right": null,
            "top": null,
            "visibility": null,
            "width": null
          }
        },
        "f15a20ec92fc45fcb49a3f02402392b1": {
          "model_module": "@jupyter-widgets/controls",
          "model_name": "ProgressStyleModel",
          "model_module_version": "1.5.0",
          "state": {
            "_model_module": "@jupyter-widgets/controls",
            "_model_module_version": "1.5.0",
            "_model_name": "ProgressStyleModel",
            "_view_count": null,
            "_view_module": "@jupyter-widgets/base",
            "_view_module_version": "1.2.0",
            "_view_name": "StyleView",
            "bar_color": null,
            "description_width": ""
          }
        },
        "3214bff449bf44ad85a43faa95d219c3": {
          "model_module": "@jupyter-widgets/base",
          "model_name": "LayoutModel",
          "model_module_version": "1.2.0",
          "state": {
            "_model_module": "@jupyter-widgets/base",
            "_model_module_version": "1.2.0",
            "_model_name": "LayoutModel",
            "_view_count": null,
            "_view_module": "@jupyter-widgets/base",
            "_view_module_version": "1.2.0",
            "_view_name": "LayoutView",
            "align_content": null,
            "align_items": null,
            "align_self": null,
            "border": null,
            "bottom": null,
            "display": null,
            "flex": null,
            "flex_flow": null,
            "grid_area": null,
            "grid_auto_columns": null,
            "grid_auto_flow": null,
            "grid_auto_rows": null,
            "grid_column": null,
            "grid_gap": null,
            "grid_row": null,
            "grid_template_areas": null,
            "grid_template_columns": null,
            "grid_template_rows": null,
            "height": null,
            "justify_content": null,
            "justify_items": null,
            "left": null,
            "margin": null,
            "max_height": null,
            "max_width": null,
            "min_height": null,
            "min_width": null,
            "object_fit": null,
            "object_position": null,
            "order": null,
            "overflow": null,
            "overflow_x": null,
            "overflow_y": null,
            "padding": null,
            "right": null,
            "top": null,
            "visibility": null,
            "width": null
          }
        },
        "fd17f58cab1c4a2993d0a5e23b231448": {
          "model_module": "@jupyter-widgets/controls",
          "model_name": "DescriptionStyleModel",
          "model_module_version": "1.5.0",
          "state": {
            "_model_module": "@jupyter-widgets/controls",
            "_model_module_version": "1.5.0",
            "_model_name": "DescriptionStyleModel",
            "_view_count": null,
            "_view_module": "@jupyter-widgets/base",
            "_view_module_version": "1.2.0",
            "_view_name": "StyleView",
            "description_width": ""
          }
        }
      }
    }
  },
  "cells": [
    {
      "cell_type": "markdown",
      "source": [
        "### Installing the required libraries"
      ],
      "metadata": {
        "id": "7fxdHYtM9U3p"
      }
    },
    {
      "cell_type": "code",
      "execution_count": null,
      "metadata": {
        "colab": {
          "base_uri": "https://localhost:8080/"
        },
        "id": "6UQrauWmy_E-",
        "outputId": "931a3fb0-f850-4409-c6b4-c39b2244965c"
      },
      "outputs": [
        {
          "output_type": "stream",
          "name": "stdout",
          "text": [
            "\u001b[?25l   \u001b[90m━━━━━━━━━━━━━━━━━━━━━━━━━━━━━━━━━━━━━━━━\u001b[0m \u001b[32m0.0/1.2 MB\u001b[0m \u001b[31m?\u001b[0m eta \u001b[36m-:--:--\u001b[0m\r\u001b[2K   \u001b[91m━━━━━━━━━━━━\u001b[0m\u001b[91m╸\u001b[0m\u001b[90m━━━━━━━━━━━━━━━━━━━━━━━━━━━\u001b[0m \u001b[32m0.4/1.2 MB\u001b[0m \u001b[31m11.7 MB/s\u001b[0m eta \u001b[36m0:00:01\u001b[0m\r\u001b[2K   \u001b[91m━━━━━━━━━━━━━━━━━━━━━━━━━━━━━━━━━━━━━━━\u001b[0m\u001b[91m╸\u001b[0m \u001b[32m1.2/1.2 MB\u001b[0m \u001b[31m22.2 MB/s\u001b[0m eta \u001b[36m0:00:01\u001b[0m\r\u001b[2K   \u001b[90m━━━━━━━━━━━━━━━━━━━━━━━━━━━━━━━━━━━━━━━━\u001b[0m \u001b[32m1.2/1.2 MB\u001b[0m \u001b[31m12.9 MB/s\u001b[0m eta \u001b[36m0:00:00\u001b[0m\n",
            "\u001b[2K   \u001b[90m━━━━━━━━━━━━━━━━━━━━━━━━━━━━━━━━━━━━━━━━\u001b[0m \u001b[32m307.7/307.7 kB\u001b[0m \u001b[31m15.7 MB/s\u001b[0m eta \u001b[36m0:00:00\u001b[0m\n",
            "\u001b[2K   \u001b[90m━━━━━━━━━━━━━━━━━━━━━━━━━━━━━━━━━━━━━━━━\u001b[0m \u001b[32m15.5/15.5 MB\u001b[0m \u001b[31m61.7 MB/s\u001b[0m eta \u001b[36m0:00:00\u001b[0m\n",
            "\u001b[2K   \u001b[90m━━━━━━━━━━━━━━━━━━━━━━━━━━━━━━━━━━━━━━━━\u001b[0m \u001b[32m1.2/1.2 MB\u001b[0m \u001b[31m42.6 MB/s\u001b[0m eta \u001b[36m0:00:00\u001b[0m\n",
            "\u001b[2K   \u001b[90m━━━━━━━━━━━━━━━━━━━━━━━━━━━━━━━━━━━━━━━━\u001b[0m \u001b[32m169.4/169.4 kB\u001b[0m \u001b[31m8.3 MB/s\u001b[0m eta \u001b[36m0:00:00\u001b[0m\n",
            "\u001b[2K   \u001b[90m━━━━━━━━━━━━━━━━━━━━━━━━━━━━━━━━━━━━━━━━\u001b[0m \u001b[32m75.6/75.6 kB\u001b[0m \u001b[31m3.3 MB/s\u001b[0m eta \u001b[36m0:00:00\u001b[0m\n",
            "\u001b[2K   \u001b[90m━━━━━━━━━━━━━━━━━━━━━━━━━━━━━━━━━━━━━━━━\u001b[0m \u001b[32m77.9/77.9 kB\u001b[0m \u001b[31m3.5 MB/s\u001b[0m eta \u001b[36m0:00:00\u001b[0m\n",
            "\u001b[2K   \u001b[90m━━━━━━━━━━━━━━━━━━━━━━━━━━━━━━━━━━━━━━━━\u001b[0m \u001b[32m361.5/361.5 kB\u001b[0m \u001b[31m18.0 MB/s\u001b[0m eta \u001b[36m0:00:00\u001b[0m\n",
            "\u001b[2K   \u001b[90m━━━━━━━━━━━━━━━━━━━━━━━━━━━━━━━━━━━━━━━━\u001b[0m \u001b[32m295.8/295.8 kB\u001b[0m \u001b[31m14.1 MB/s\u001b[0m eta \u001b[36m0:00:00\u001b[0m\n",
            "\u001b[2K   \u001b[90m━━━━━━━━━━━━━━━━━━━━━━━━━━━━━━━━━━━━━━━━\u001b[0m \u001b[32m1.1/1.1 MB\u001b[0m \u001b[31m36.2 MB/s\u001b[0m eta \u001b[36m0:00:00\u001b[0m\n",
            "\u001b[2K   \u001b[90m━━━━━━━━━━━━━━━━━━━━━━━━━━━━━━━━━━━━━━━━\u001b[0m \u001b[32m318.9/318.9 kB\u001b[0m \u001b[31m15.7 MB/s\u001b[0m eta \u001b[36m0:00:00\u001b[0m\n",
            "\u001b[2K   \u001b[90m━━━━━━━━━━━━━━━━━━━━━━━━━━━━━━━━━━━━━━━━\u001b[0m \u001b[32m49.2/49.2 kB\u001b[0m \u001b[31m2.5 MB/s\u001b[0m eta \u001b[36m0:00:00\u001b[0m\n",
            "\u001b[2K   \u001b[90m━━━━━━━━━━━━━━━━━━━━━━━━━━━━━━━━━━━━━━━━\u001b[0m \u001b[32m58.3/58.3 kB\u001b[0m \u001b[31m3.1 MB/s\u001b[0m eta \u001b[36m0:00:00\u001b[0m\n",
            "\u001b[?25h"
          ]
        }
      ],
      "source": [
        "pip install --quiet --upgrade llama-index llama-index-vector-stores-mongodb llama-index-embeddings-openai pymongo"
      ]
    },
    {
      "cell_type": "markdown",
      "source": [
        "### Library Imports"
      ],
      "metadata": {
        "id": "RLmbmFiK9XWg"
      }
    },
    {
      "cell_type": "code",
      "source": [
        "from llama_index.core import SimpleDirectoryReader, VectorStoreIndex, StorageContext\n",
        "from llama_index.core.query_engine import RetrieverQueryEngine\n",
        "from llama_index.core.retrievers import VectorIndexRetriever\n",
        "from llama_index.core.settings import Settings\n",
        "from llama_index.core.vector_stores import MetadataFilter, MetadataFilters, ExactMatchFilter, FilterOperator\n",
        "from llama_index.embeddings.openai import OpenAIEmbedding\n",
        "from llama_index.llms.openai import OpenAI\n",
        "from llama_index.vector_stores.mongodb import MongoDBAtlasVectorSearch\n",
        "import getpass, os, pymongo, pprint"
      ],
      "metadata": {
        "id": "fX4dw0WrzdC0"
      },
      "execution_count": null,
      "outputs": []
    },
    {
      "cell_type": "markdown",
      "source": [
        "### Setting up the OpenAI API and MongoDB_Atlas Connection String"
      ],
      "metadata": {
        "id": "Yao6Qep79ZBT"
      }
    },
    {
      "cell_type": "code",
      "source": [
        "os.environ[\"OPENAI_API_KEY\"] = getpass.getpass(\"OpenAI API Key:\")\n",
        "ATLAS_CONNECTION_STRING = getpass.getpass(\"MongoDB Atlas SRV Connection String:\")"
      ],
      "metadata": {
        "colab": {
          "base_uri": "https://localhost:8080/"
        },
        "id": "0-YF2OWazuxy",
        "outputId": "fd4b0943-4f27-401b-8926-8b97ce656ec2"
      },
      "execution_count": null,
      "outputs": [
        {
          "name": "stdout",
          "output_type": "stream",
          "text": [
            "OpenAI API Key:··········\n",
            "MongoDB Atlas SRV Connection String:··········\n"
          ]
        }
      ]
    },
    {
      "cell_type": "markdown",
      "source": [
        "### LlamaIndex based LLM Settings"
      ],
      "metadata": {
        "id": "q9ZHe-Jv9eOm"
      }
    },
    {
      "cell_type": "code",
      "source": [
        "Settings.llm = OpenAI()\n",
        "Settings.embed_model = OpenAIEmbedding(model=\"text-embedding-ada-002\")\n",
        "Settings.chunk_size = 256\n",
        "Settings.chunk_overlap = 20"
      ],
      "metadata": {
        "id": "DSzZZ0h025Ap"
      },
      "execution_count": null,
      "outputs": []
    },
    {
      "cell_type": "markdown",
      "source": [
        "### Data Loading"
      ],
      "metadata": {
        "id": "fYd07SHi9nud"
      }
    },
    {
      "cell_type": "code",
      "source": [
        "sample_data = SimpleDirectoryReader(input_files = [\"data/waitgpt.pdf\"]).load_data()"
      ],
      "metadata": {
        "id": "L3p8zFwn2Egz"
      },
      "execution_count": null,
      "outputs": []
    },
    {
      "cell_type": "markdown",
      "source": [
        "### Vector Store Creation"
      ],
      "metadata": {
        "id": "S2LVrITf9rmZ"
      }
    },
    {
      "cell_type": "code",
      "source": [
        "mongodb_client = pymongo.MongoClient(ATLAS_CONNECTION_STRING)\n",
        "\n",
        "atlas_vector_store = MongoDBAtlasVectorSearch(\n",
        "    mongodb_client,\n",
        "    db_name = \"llamaindex_db\",\n",
        "    collection_name = \"test\",\n",
        "    index_name = \"vector_index\"\n",
        ")\n",
        "vector_store_context = StorageContext.from_defaults(vector_store = atlas_vector_store)"
      ],
      "metadata": {
        "colab": {
          "base_uri": "https://localhost:8080/"
        },
        "id": "CxChUXxQ3VZt",
        "outputId": "5f4bfbf2-2315-4616-f525-e1e118202877"
      },
      "execution_count": null,
      "outputs": [
        {
          "output_type": "stream",
          "name": "stderr",
          "text": [
            "WARNING:llama_index.vector_stores.mongodb.base:index_name is deprecated. Please use vector_index_name\n",
            "WARNING:llama_index.vector_stores.mongodb.base:vector_index_name and index_name both specified. Will use vector_index_name\n"
          ]
        }
      ]
    },
    {
      "cell_type": "markdown",
      "source": [
        "### Storing data as Vector Embeddings"
      ],
      "metadata": {
        "id": "StqOYtIV9ya2"
      }
    },
    {
      "cell_type": "code",
      "source": [
        "vector_store_index = VectorStoreIndex.from_documents(\n",
        "   sample_data, storage_context=vector_store_context, show_progress = True\n",
        ")"
      ],
      "metadata": {
        "colab": {
          "base_uri": "https://localhost:8080/",
          "height": 81,
          "referenced_widgets": [
            "379e6532d6e24e7d80beda4f681fba1e",
            "0b85783b88b64534989d94606a500e05",
            "be146ef23d70463c9fdd89c5cdd403c6",
            "b5163e1ab5714eafb5a35f96ffcdd819",
            "0dfbc852d1384a75aa9d6eee97f4f1f4",
            "82d6e22f4d544e35a4d903bcfd25edd2",
            "e6600009e6254e319d75cfb9bea58e2e",
            "75b9aa4a7e9746bf9d7404547804423b",
            "1043974877b5477cbe1daff959498bf6",
            "ee2271d4d31b4fc4bf908eb646b56874",
            "eb825abf8d7a45d6aa10968ada41ba91",
            "4c4ee11621b24f65bca4fb56a3c4f9dd",
            "a74e3eb8fe344bb29cd880fac06a20fe",
            "a01ff7cb2388408693f6ed090acabf84",
            "fabdeab2148243ff804337711327f6ad",
            "63381738481f47e580f57233a8974ab0",
            "2a043cec632b4c41acd494f73b2cda65",
            "8abfa8b8428043ecbebd2dc3e2f709fa",
            "d59ee0b722844869a4b8aaca30dcfae3",
            "f15a20ec92fc45fcb49a3f02402392b1",
            "3214bff449bf44ad85a43faa95d219c3",
            "fd17f58cab1c4a2993d0a5e23b231448"
          ]
        },
        "id": "89ENyJfU3fhp",
        "outputId": "fc183f83-7cdd-4db1-ff5d-5fe3a848fba5"
      },
      "execution_count": null,
      "outputs": [
        {
          "output_type": "display_data",
          "data": {
            "text/plain": [
              "Parsing nodes:   0%|          | 0/14 [00:00<?, ?it/s]"
            ],
            "application/vnd.jupyter.widget-view+json": {
              "version_major": 2,
              "version_minor": 0,
              "model_id": "379e6532d6e24e7d80beda4f681fba1e"
            }
          },
          "metadata": {}
        },
        {
          "output_type": "display_data",
          "data": {
            "text/plain": [
              "Generating embeddings:   0%|          | 0/110 [00:00<?, ?it/s]"
            ],
            "application/vnd.jupyter.widget-view+json": {
              "version_major": 2,
              "version_minor": 0,
              "model_id": "4c4ee11621b24f65bca4fb56a3c4f9dd"
            }
          },
          "metadata": {}
        }
      ]
    },
    {
      "cell_type": "markdown",
      "source": [
        "### Setup Atlas Search on the Atlas WebUI using the following JSON data\n",
        "\n"
      ],
      "metadata": {
        "id": "0VwWWspl6Vw7"
      }
    },
    {
      "cell_type": "code",
      "source": [
        "{\n",
        "   \"fields\": [\n",
        "      {\n",
        "         \"type\": \"vector\",\n",
        "         \"path\": \"embedding\",\n",
        "         \"numDimensions\": 1536,\n",
        "         \"similarity\": \"cosine\"\n",
        "      },\n",
        "      {\n",
        "         \"type\": \"filter\",\n",
        "         \"path\": \"metadata.page_label\"\n",
        "      }\n",
        "   ]\n",
        "}"
      ],
      "metadata": {
        "colab": {
          "base_uri": "https://localhost:8080/"
        },
        "id": "yJNw_Kux-JeU",
        "outputId": "d834ff7e-aab9-488d-c128-8af354fde07a"
      },
      "execution_count": null,
      "outputs": [
        {
          "output_type": "execute_result",
          "data": {
            "text/plain": [
              "{'fields': [{'type': 'vector',\n",
              "   'path': 'embedding',\n",
              "   'numDimensions': 1536,\n",
              "   'similarity': 'cosine'},\n",
              "  {'type': 'filter', 'path': 'metadata.page_label'}]}"
            ]
          },
          "metadata": {},
          "execution_count": 26
        }
      ]
    },
    {
      "cell_type": "markdown",
      "source": [
        "### RAG"
      ],
      "metadata": {
        "id": "MSJhWD-M9RLN"
      }
    },
    {
      "cell_type": "code",
      "source": [
        "vector_store_retriever = VectorIndexRetriever(index = vector_store_index, similarity_top_k = 2)\n",
        "\n",
        "query_engine = RetrieverQueryEngine(retriever = vector_store_retriever)\n",
        "\n",
        "response = query_engine.query('What is WaitGPT?')\n",
        "\n",
        "print(response)\n",
        "print(\"\\nSource documents: \")\n",
        "pprint.pprint(response.source_nodes)"
      ],
      "metadata": {
        "colab": {
          "base_uri": "https://localhost:8080/"
        },
        "id": "TjiONvam3xU_",
        "outputId": "21666128-8d04-41de-ca10-fde0f35b9750"
      },
      "execution_count": null,
      "outputs": [
        {
          "output_type": "stream",
          "name": "stdout",
          "text": [
            "WaitGPT is a prototype developed to facilitate monitoring and steering of data analysis performed by LLMs. It aims to enhance error detection and increase overall confidence in the results through its usability and effectiveness, as demonstrated in a user study. WaitGPT translates stream-based code into a visualization of key data operations, allowing for granular interactions to empower users in monitoring and steering data analysis conducted by LLM agents.\n",
            "\n",
            "Source documents: \n",
            "[NodeWithScore(node=TextNode(id_='a1d10be9-fd5e-41e2-a25f-8171f77c7087', embedding=None, metadata={'page_label': '1', 'file_name': 'waitgpt.pdf', 'file_path': 'data/waitgpt.pdf', 'file_type': 'application/pdf', 'file_size': 4796737, 'creation_date': '2024-08-16', 'last_modified_date': '2024-08-16'}, excluded_embed_metadata_keys=['file_name', 'file_type', 'file_size', 'creation_date', 'last_modified_date', 'last_accessed_date'], excluded_llm_metadata_keys=['file_name', 'file_type', 'file_size', 'creation_date', 'last_modified_date', 'last_accessed_date'], relationships={<NodeRelationship.SOURCE: '1'>: RelatedNodeInfo(node_id='7b7bbf08-c0a0-422a-992c-e0a022535dfd', node_type=<ObjectType.DOCUMENT: '4'>, metadata={'page_label': '1', 'file_name': 'waitgpt.pdf', 'file_path': 'data/waitgpt.pdf', 'file_type': 'application/pdf', 'file_size': 4796737, 'creation_date': '2024-08-16', 'last_modified_date': '2024-08-16'}, hash='fac5221e68e89b9af5f6a3a995c587fd3734a2590cfbea93b888f95cfeb1e980'), <NodeRelationship.PREVIOUS: '2'>: RelatedNodeInfo(node_id='42f4e13d-e64c-46c7-bfa6-c2685a65455b', node_type=<ObjectType.TEXT: '1'>, metadata={'page_label': '1', 'file_name': 'waitgpt.pdf', 'file_path': 'data/waitgpt.pdf', 'file_type': 'application/pdf', 'file_size': 4796737, 'creation_date': '2024-08-16', 'last_modified_date': '2024-08-16'}, hash='5f5df4a1f9da905dc526253316dfc1922ca436a5b64a5720b8875f9e3c832019'), <NodeRelationship.NEXT: '3'>: RelatedNodeInfo(node_id='b298cb4a-520d-40b1-920d-10e681cf8204', node_type=<ObjectType.TEXT: '1'>, metadata={}, hash='cb2be1dd885ca63ec7af8134f385549436cde32d067ffe3f228ce5b11b9c78ce')}, text='Publication rights licensed to ACM.\\nThis is the author’s version of the work. It is posted here for your personal use. Not\\nfor redistribution. The definitive Version of Record was published in The 37th Annual\\nACM Symposium on User Interface Software and Technology (UIST ’24), October 13–16,\\n2024, Pittsburgh, PA, USA , https://doi.org/10.1145/3654777.3676374.and challenges. We further developed a prototype named WaitGPT\\nand conducted a user study (N=12) to evaluate its usability and\\neffectiveness. The findings from the user study reveal that WaitGPT\\nfacilitates monitoring and steering of data analysis performed by\\nLLMs, enabling participants to enhance error detection and increase\\ntheir overall confidence in the results.\\nCCS CONCEPTS\\n•Human-centered computing →Natural language interfaces ;\\nGraphical user interfaces ;Information visualization .', mimetype='text/plain', start_char_idx=1848, end_char_idx=2702, text_template='{metadata_str}\\n\\n{content}', metadata_template='{key}: {value}', metadata_seperator='\\n'), score=0.9285086393356323),\n",
            " NodeWithScore(node=TextNode(id_='640da0ef-c300-4876-af75-bf2e5c90af43', embedding=None, metadata={'page_label': '12', 'file_name': 'waitgpt.pdf', 'file_path': 'data/waitgpt.pdf', 'file_type': 'application/pdf', 'file_size': 4796737, 'creation_date': '2024-08-16', 'last_modified_date': '2024-08-16'}, excluded_embed_metadata_keys=['file_name', 'file_type', 'file_size', 'creation_date', 'last_modified_date', 'last_accessed_date'], excluded_llm_metadata_keys=['file_name', 'file_type', 'file_size', 'creation_date', 'last_modified_date', 'last_accessed_date'], relationships={<NodeRelationship.SOURCE: '1'>: RelatedNodeInfo(node_id='e23667b6-3de5-4001-8624-5873c3e44715', node_type=<ObjectType.DOCUMENT: '4'>, metadata={'page_label': '12', 'file_name': 'waitgpt.pdf', 'file_path': 'data/waitgpt.pdf', 'file_type': 'application/pdf', 'file_size': 4796737, 'creation_date': '2024-08-16', 'last_modified_date': '2024-08-16'}, hash='2fea3a80a0346206bc861cc6ca0ea036ea6c6923ce9348ae14ffa8f1025b0978'), <NodeRelationship.PREVIOUS: '2'>: RelatedNodeInfo(node_id='abbe2dbc-aef3-4ee5-b51d-876ff2847a0d', node_type=<ObjectType.TEXT: '1'>, metadata={'page_label': '12', 'file_name': 'waitgpt.pdf', 'file_path': 'data/waitgpt.pdf', 'file_type': 'application/pdf', 'file_size': 4796737, 'creation_date': '2024-08-16', 'last_modified_date': '2024-08-16'}, hash='79eb62c3bb9aea558e26fdcd6e33199f6dd666a51df128cd305549463704d3fa'), <NodeRelationship.NEXT: '3'>: RelatedNodeInfo(node_id='97d96cb8-e1df-43dd-9b71-e1d5c6ec422a', node_type=<ObjectType.TEXT: '1'>, metadata={}, hash='c1f4ef1597fd2b4ff422396516188e18e9ea0658b2b98da37125dca9d185e820')}, text='By\\ntranslating stream-based code into a growing visualization of the\\nkey data operations and affording granular interactions, WaitGPT\\nempowers users to monitor and steer data analysis performed by\\nLLM agents. A user study (N=12) covering basic data analysis tasks\\ndemonstrated that WaitGPT could enhance error detection rate and\\nimprove overall confidence in the results.\\nOur work contributes to the field of human-AI collaboration in\\ndata analysis by demonstrating the effectiveness of transformable\\ncode representations in facilitating user understanding and engage-\\nment. As LLM applications in data analysis become more prevalent,\\nprioritizing user experience and trust through accessible, interac-\\ntive interfaces will be crucial in harnessing the potential of these\\npowerful tools while ensuring their reliability and usability. We\\nurge more exploration of novel human-LLM interaction paradigms\\nand intuitive visual representation design for LLM responses.\\nACKNOWLEDGMENTS\\nThis research is supported by RGC GRF grant 16210321. The first\\nauthor thanks Prof. Hanspeter Pfister for hosting the visit to the\\nHarvard Visual Computing Group.', mimetype='text/plain', start_char_idx=5084, end_char_idx=6225, text_template='{metadata_str}\\n\\n{content}', metadata_template='{key}: {value}', metadata_seperator='\\n'), score=0.9237738251686096)]\n"
          ]
        }
      ]
    },
    {
      "cell_type": "markdown",
      "source": [
        "### RAG with metadata filtering"
      ],
      "metadata": {
        "id": "rjIlKixj9N_E"
      }
    },
    {
      "cell_type": "code",
      "source": [
        "metadata_filters = MetadataFilters(\n",
        "   filters=[ExactMatchFilter(key=\"metadata.page_label\", value=\"12\")]\n",
        ")\n",
        "\n",
        "vector_store_retriever = VectorIndexRetriever(index=vector_store_index, filters=metadata_filters, similarity_top_k=5)\n",
        "\n",
        "query_engine = RetrieverQueryEngine(retriever=vector_store_retriever)\n",
        "\n",
        "response = query_engine.query('What is WaitGPT?')\n",
        "\n",
        "print(response)\n",
        "print(\"\\nSource documents: \")\n",
        "pprint.pprint(response.source_nodes)"
      ],
      "metadata": {
        "colab": {
          "base_uri": "https://localhost:8080/"
        },
        "id": "WYUVgrwu6lmN",
        "outputId": "c2417af4-19b7-4a32-d259-af83e6dcae40"
      },
      "execution_count": null,
      "outputs": [
        {
          "output_type": "stream",
          "name": "stdout",
          "text": [
            "WaitGPT is a novel interface design that transforms LLM-generated code into an accessible, interactive representation to address the reliability issues and user challenges in LLM-powered data analysis tools.\n",
            "\n",
            "Source documents: \n",
            "[NodeWithScore(node=TextNode(id_='640da0ef-c300-4876-af75-bf2e5c90af43', embedding=None, metadata={'page_label': '12', 'file_name': 'waitgpt.pdf', 'file_path': 'data/waitgpt.pdf', 'file_type': 'application/pdf', 'file_size': 4796737, 'creation_date': '2024-08-16', 'last_modified_date': '2024-08-16'}, excluded_embed_metadata_keys=['file_name', 'file_type', 'file_size', 'creation_date', 'last_modified_date', 'last_accessed_date'], excluded_llm_metadata_keys=['file_name', 'file_type', 'file_size', 'creation_date', 'last_modified_date', 'last_accessed_date'], relationships={<NodeRelationship.SOURCE: '1'>: RelatedNodeInfo(node_id='e23667b6-3de5-4001-8624-5873c3e44715', node_type=<ObjectType.DOCUMENT: '4'>, metadata={'page_label': '12', 'file_name': 'waitgpt.pdf', 'file_path': 'data/waitgpt.pdf', 'file_type': 'application/pdf', 'file_size': 4796737, 'creation_date': '2024-08-16', 'last_modified_date': '2024-08-16'}, hash='2fea3a80a0346206bc861cc6ca0ea036ea6c6923ce9348ae14ffa8f1025b0978'), <NodeRelationship.PREVIOUS: '2'>: RelatedNodeInfo(node_id='abbe2dbc-aef3-4ee5-b51d-876ff2847a0d', node_type=<ObjectType.TEXT: '1'>, metadata={'page_label': '12', 'file_name': 'waitgpt.pdf', 'file_path': 'data/waitgpt.pdf', 'file_type': 'application/pdf', 'file_size': 4796737, 'creation_date': '2024-08-16', 'last_modified_date': '2024-08-16'}, hash='79eb62c3bb9aea558e26fdcd6e33199f6dd666a51df128cd305549463704d3fa'), <NodeRelationship.NEXT: '3'>: RelatedNodeInfo(node_id='97d96cb8-e1df-43dd-9b71-e1d5c6ec422a', node_type=<ObjectType.TEXT: '1'>, metadata={}, hash='c1f4ef1597fd2b4ff422396516188e18e9ea0658b2b98da37125dca9d185e820')}, text='By\\ntranslating stream-based code into a growing visualization of the\\nkey data operations and affording granular interactions, WaitGPT\\nempowers users to monitor and steer data analysis performed by\\nLLM agents. A user study (N=12) covering basic data analysis tasks\\ndemonstrated that WaitGPT could enhance error detection rate and\\nimprove overall confidence in the results.\\nOur work contributes to the field of human-AI collaboration in\\ndata analysis by demonstrating the effectiveness of transformable\\ncode representations in facilitating user understanding and engage-\\nment. As LLM applications in data analysis become more prevalent,\\nprioritizing user experience and trust through accessible, interac-\\ntive interfaces will be crucial in harnessing the potential of these\\npowerful tools while ensuring their reliability and usability. We\\nurge more exploration of novel human-LLM interaction paradigms\\nand intuitive visual representation design for LLM responses.\\nACKNOWLEDGMENTS\\nThis research is supported by RGC GRF grant 16210321. The first\\nauthor thanks Prof. Hanspeter Pfister for hosting the visit to the\\nHarvard Visual Computing Group.', mimetype='text/plain', start_char_idx=5084, end_char_idx=6225, text_template='{metadata_str}\\n\\n{content}', metadata_template='{key}: {value}', metadata_seperator='\\n'), score=0.9237738251686096),\n",
            " NodeWithScore(node=TextNode(id_='abbe2dbc-aef3-4ee5-b51d-876ff2847a0d', embedding=None, metadata={'page_label': '12', 'file_name': 'waitgpt.pdf', 'file_path': 'data/waitgpt.pdf', 'file_type': 'application/pdf', 'file_size': 4796737, 'creation_date': '2024-08-16', 'last_modified_date': '2024-08-16'}, excluded_embed_metadata_keys=['file_name', 'file_type', 'file_size', 'creation_date', 'last_modified_date', 'last_accessed_date'], excluded_llm_metadata_keys=['file_name', 'file_type', 'file_size', 'creation_date', 'last_modified_date', 'last_accessed_date'], relationships={<NodeRelationship.SOURCE: '1'>: RelatedNodeInfo(node_id='e23667b6-3de5-4001-8624-5873c3e44715', node_type=<ObjectType.DOCUMENT: '4'>, metadata={'page_label': '12', 'file_name': 'waitgpt.pdf', 'file_path': 'data/waitgpt.pdf', 'file_type': 'application/pdf', 'file_size': 4796737, 'creation_date': '2024-08-16', 'last_modified_date': '2024-08-16'}, hash='2fea3a80a0346206bc861cc6ca0ea036ea6c6923ce9348ae14ffa8f1025b0978'), <NodeRelationship.PREVIOUS: '2'>: RelatedNodeInfo(node_id='8d46613a-db62-4578-8304-859d1a2b11f0', node_type=<ObjectType.TEXT: '1'>, metadata={'page_label': '12', 'file_name': 'waitgpt.pdf', 'file_path': 'data/waitgpt.pdf', 'file_type': 'application/pdf', 'file_size': 4796737, 'creation_date': '2024-08-16', 'last_modified_date': '2024-08-16'}, hash='41984d4b940dbbf99591cb330e8e7c980611d85587fadf31a218a9fc6be696aa'), <NodeRelationship.NEXT: '3'>: RelatedNodeInfo(node_id='640da0ef-c300-4876-af75-bf2e5c90af43', node_type=<ObjectType.TEXT: '1'>, metadata={}, hash='abfa93617ccbe4fabaf162e6f33e4da41285a921d1f47de69f433384545ab75c')}, text='However, the code stream visualization may not work\\nfor SQL-like languages with a reversed execution order compared\\nto the procedure declaration. Second, the flow diagram assumes a\\nlinear structure in the code, targeting fluent interfaces [ 55]. Future\\nworks can incorporate control flows like loops and visual primitives\\nfor other data types. Last, the current glyph design may not scale\\nto tables with over 20 columns. To address this, unused columns\\ncan be aggregated, or important ones can be hidden.\\n9 CONCLUSION\\nIn this paper, we introduced WaitGPT, a novel interface design\\nthat transforms LLM-generated code into an accessible, interactive\\nrepresentation to address the reliability issues and user challenges\\nin LLM-powered data analysis tools. Drawing from an interview\\nstudy with general users (N=8) of ChatGPT, we gained insights into\\ngeneral perspectives on these nascent tools and glitches in disrup-\\ntive workflow, code verification, and labor-intensive iterations.', mimetype='text/plain', start_char_idx=4104, end_char_idx=5083, text_template='{metadata_str}\\n\\n{content}', metadata_template='{key}: {value}', metadata_seperator='\\n'), score=0.9176708459854126),\n",
            " NodeWithScore(node=TextNode(id_='b0aac8b8-233d-46ec-811b-1f8eba4a2c7d', embedding=None, metadata={'page_label': '12', 'file_name': 'waitgpt.pdf', 'file_path': 'data/waitgpt.pdf', 'file_type': 'application/pdf', 'file_size': 4796737, 'creation_date': '2024-08-16', 'last_modified_date': '2024-08-16'}, excluded_embed_metadata_keys=['file_name', 'file_type', 'file_size', 'creation_date', 'last_modified_date', 'last_accessed_date'], excluded_llm_metadata_keys=['file_name', 'file_type', 'file_size', 'creation_date', 'last_modified_date', 'last_accessed_date'], relationships={<NodeRelationship.SOURCE: '1'>: RelatedNodeInfo(node_id='e23667b6-3de5-4001-8624-5873c3e44715', node_type=<ObjectType.DOCUMENT: '4'>, metadata={'page_label': '12', 'file_name': 'waitgpt.pdf', 'file_path': 'data/waitgpt.pdf', 'file_type': 'application/pdf', 'file_size': 4796737, 'creation_date': '2024-08-16', 'last_modified_date': '2024-08-16'}, hash='2fea3a80a0346206bc861cc6ca0ea036ea6c6923ce9348ae14ffa8f1025b0978'), <NodeRelationship.PREVIOUS: '2'>: RelatedNodeInfo(node_id='f625ff46-c871-481a-8c7f-13a292b034e6', node_type=<ObjectType.TEXT: '1'>, metadata={'page_label': '12', 'file_name': 'waitgpt.pdf', 'file_path': 'data/waitgpt.pdf', 'file_type': 'application/pdf', 'file_size': 4796737, 'creation_date': '2024-08-16', 'last_modified_date': '2024-08-16'}, hash='fb2088d42e1e9b21f99ea0d67fc270e3a90806a4c503a40a9e2c019bb5c04c31'), <NodeRelationship.NEXT: '3'>: RelatedNodeInfo(node_id='35991a12-07dc-45de-a602-0f8bcbdc4f13', node_type=<ObjectType.TEXT: '1'>, metadata={}, hash='7bfd8b78790235fd7a49f0aef1f3ec340ea36c088bed4e62cf1e5276817da818')}, text='In addition, different data\\ntasks raise different requirements warranting tailored supports,\\nsuch as an emphasis on the authorial intent matching of encoding\\nschemes in expressive visualization design (e.g., [61, 70]).\\nIntroducing a “stop” mechanism in human-LLM agent interaction.\\nWhile WaitGPT is based on a chatbot-like interface, such an inter-\\naction paradigm can apply to a standalone AI assistant integrated\\ninto data analysis software or notebook platforms [ 38]. Essentially,\\nduring the ongoing conversation with LLM agents, users may be\\noverwhelmed by the token-based output and fail to prevent propa-\\ngating errors in time. WaitGPT integrates proactive strategies to\\nidentify and rectify potential failures in AI-generated content. Sim-\\nilarly, future works may further enrich the design space of visual\\nrepresentations of LLM outputs [ 4,20] for instant understanding\\nand explore a low-cost approach to facilitate steering content gen-\\neration based on intermediate outputs.\\nExploiting interaction modalities in conversational data interface.', mimetype='text/plain', start_char_idx=1057, end_char_idx=2111, text_template='{metadata_str}\\n\\n{content}', metadata_template='{key}: {value}', metadata_seperator='\\n'), score=0.9148127436637878),\n",
            " NodeWithScore(node=TextNode(id_='8d46613a-db62-4578-8304-859d1a2b11f0', embedding=None, metadata={'page_label': '12', 'file_name': 'waitgpt.pdf', 'file_path': 'data/waitgpt.pdf', 'file_type': 'application/pdf', 'file_size': 4796737, 'creation_date': '2024-08-16', 'last_modified_date': '2024-08-16'}, excluded_embed_metadata_keys=['file_name', 'file_type', 'file_size', 'creation_date', 'last_modified_date', 'last_accessed_date'], excluded_llm_metadata_keys=['file_name', 'file_type', 'file_size', 'creation_date', 'last_modified_date', 'last_accessed_date'], relationships={<NodeRelationship.SOURCE: '1'>: RelatedNodeInfo(node_id='e23667b6-3de5-4001-8624-5873c3e44715', node_type=<ObjectType.DOCUMENT: '4'>, metadata={'page_label': '12', 'file_name': 'waitgpt.pdf', 'file_path': 'data/waitgpt.pdf', 'file_type': 'application/pdf', 'file_size': 4796737, 'creation_date': '2024-08-16', 'last_modified_date': '2024-08-16'}, hash='2fea3a80a0346206bc861cc6ca0ea036ea6c6923ce9348ae14ffa8f1025b0978'), <NodeRelationship.PREVIOUS: '2'>: RelatedNodeInfo(node_id='35991a12-07dc-45de-a602-0f8bcbdc4f13', node_type=<ObjectType.TEXT: '1'>, metadata={'page_label': '12', 'file_name': 'waitgpt.pdf', 'file_path': 'data/waitgpt.pdf', 'file_type': 'application/pdf', 'file_size': 4796737, 'creation_date': '2024-08-16', 'last_modified_date': '2024-08-16'}, hash='d82f64d2647517655b369add12892c077b8df9d56e1d769caf7280caf4e87ea5'), <NodeRelationship.NEXT: '3'>: RelatedNodeInfo(node_id='abbe2dbc-aef3-4ee5-b51d-876ff2847a0d', node_type=<ObjectType.TEXT: '1'>, metadata={}, hash='05907c384a190f37348a0f37095acb55f675d2a90efd3f1a56c2380c67fc8241')}, text='In the\\nevaluation study, both conditions were equipped with standard\\nsyntax highlight for Python language. However, without a careful\\nvisual design for key operations in the Baseline, participants may\\nfavor more on WaitGPT with its simplified information. Besides,\\nparticipants were prompted to view the transformable representa-\\ntion of the data analysis script, which may not reflect their naturalinteraction patterns. The reported usability rating may also be sub-\\nject to response bias [ 11] and participants’ familiarity with the tasks.\\nFuture works may investigate how and how often users leverage\\nthis augmented view in their natural working space without explicit\\nprompts to capture its real-world utility.\\nScalability issues. In the framework, translating code into a flow\\ndiagram requires static analysis, which is dependent on the syntax.\\nWaitGPT is currently tailored to Python language and libraries\\nlikePandas andMatplotlib for tubular data. A potential solution\\nto improve generalizability is to redesign LLM prompts to allow\\na mixed output stream of code and underlying operation objects,\\ne.g., [ 28,58].', mimetype='text/plain', start_char_idx=2983, end_char_idx=4103, text_template='{metadata_str}\\n\\n{content}', metadata_template='{key}: {value}', metadata_seperator='\\n'), score=0.9082127809524536),\n",
            " NodeWithScore(node=TextNode(id_='97d96cb8-e1df-43dd-9b71-e1d5c6ec422a', embedding=None, metadata={'page_label': '12', 'file_name': 'waitgpt.pdf', 'file_path': 'data/waitgpt.pdf', 'file_type': 'application/pdf', 'file_size': 4796737, 'creation_date': '2024-08-16', 'last_modified_date': '2024-08-16'}, excluded_embed_metadata_keys=['file_name', 'file_type', 'file_size', 'creation_date', 'last_modified_date', 'last_accessed_date'], excluded_llm_metadata_keys=['file_name', 'file_type', 'file_size', 'creation_date', 'last_modified_date', 'last_accessed_date'], relationships={<NodeRelationship.SOURCE: '1'>: RelatedNodeInfo(node_id='e23667b6-3de5-4001-8624-5873c3e44715', node_type=<ObjectType.DOCUMENT: '4'>, metadata={'page_label': '12', 'file_name': 'waitgpt.pdf', 'file_path': 'data/waitgpt.pdf', 'file_type': 'application/pdf', 'file_size': 4796737, 'creation_date': '2024-08-16', 'last_modified_date': '2024-08-16'}, hash='2fea3a80a0346206bc861cc6ca0ea036ea6c6923ce9348ae14ffa8f1025b0978'), <NodeRelationship.PREVIOUS: '2'>: RelatedNodeInfo(node_id='640da0ef-c300-4876-af75-bf2e5c90af43', node_type=<ObjectType.TEXT: '1'>, metadata={'page_label': '12', 'file_name': 'waitgpt.pdf', 'file_path': 'data/waitgpt.pdf', 'file_type': 'application/pdf', 'file_size': 4796737, 'creation_date': '2024-08-16', 'last_modified_date': '2024-08-16'}, hash='cd7a0949e942a4f15246d93263b0a54c5cb81e025de6fff560fb75f5bbc99b9c')}, text='Hanspeter Pfister for hosting the visit to the\\nHarvard Visual Computing Group. We also thank the anonymous\\nreviewers for their constructive feedback, the participants in the\\nformative and user studies, and Zhan Wang, Leixian Shen, Xiaofu\\nJin, Shuchang Xu, Dr. Yanna Lin, Dr. Qingyu Guo, and Dr. Yun\\nWang for their valuable input.', mimetype='text/plain', start_char_idx=6147, end_char_idx=6476, text_template='{metadata_str}\\n\\n{content}', metadata_template='{key}: {value}', metadata_seperator='\\n'), score=0.8893531560897827)]\n"
          ]
        }
      ]
    },
    {
      "cell_type": "markdown",
      "source": [
        "### Similarity Search"
      ],
      "metadata": {
        "id": "FlzhWadB9Kbb"
      }
    },
    {
      "cell_type": "code",
      "source": [
        "retriever = vector_store_index.as_retriever(similarity_top_k=2)\n",
        "nodes = retriever.retrieve(\"How does WaitGPT addresses reliability issues and user challenge in LLM apps?\")\n",
        "\n",
        "for node in nodes:\n",
        "    print(node)"
      ],
      "metadata": {
        "colab": {
          "base_uri": "https://localhost:8080/"
        },
        "id": "sEQr1UA87Zhl",
        "outputId": "c1b98edf-c9c3-4a9a-db4e-b3a3e0788c04"
      },
      "execution_count": null,
      "outputs": [
        {
          "output_type": "stream",
          "name": "stdout",
          "text": [
            "Node ID: 640da0ef-c300-4876-af75-bf2e5c90af43\n",
            "Text: By translating stream-based code into a growing visualization of\n",
            "the key data operations and affording granular interactions, WaitGPT\n",
            "empowers users to monitor and steer data analysis performed by LLM\n",
            "agents. A user study (N=12) covering basic data analysis tasks\n",
            "demonstrated that WaitGPT could enhance error detection rate and\n",
            "improve overall co...\n",
            "Score:  0.926\n",
            "\n",
            "Node ID: a1d10be9-fd5e-41e2-a25f-8171f77c7087\n",
            "Text: Publication rights licensed to ACM. This is the author’s version\n",
            "of the work. It is posted here for your personal use. Not for\n",
            "redistribution. The definitive Version of Record was published in The\n",
            "37th Annual ACM Symposium on User Interface Software and Technology\n",
            "(UIST ’24), October 13–16, 2024, Pittsburgh, PA, USA ,\n",
            "https://doi.org/10.1145/365...\n",
            "Score:  0.926\n",
            "\n"
          ]
        }
      ]
    },
    {
      "cell_type": "markdown",
      "source": [
        "### Implementation of ChatEngine for Back-and-Forth Conversation"
      ],
      "metadata": {
        "id": "Y5J-2Zv9853T"
      }
    },
    {
      "cell_type": "code",
      "source": [
        "chat_engine = vector_store_index.as_chat_engine(\n",
        "    chat_mode=\"condense_question\", streaming=True\n",
        ")\n",
        "response_stream = chat_engine.stream_chat(\"What are the benefits of WaitGPT\")\n",
        "response_stream.print_response_stream()"
      ],
      "metadata": {
        "colab": {
          "base_uri": "https://localhost:8080/"
        },
        "id": "szUN5kOL7j_c",
        "outputId": "90c0f1d4-9133-4b2f-a8d0-cb824a706713"
      },
      "execution_count": null,
      "outputs": [
        {
          "output_type": "stream",
          "name": "stdout",
          "text": [
            "WaitGPT facilitates monitoring and steering of data analysis performed by LLMs, enabling users to enhance error detection and increase their overall confidence in the results. Additionally, WaitGPT empowers users to monitor and steer data analysis performed by LLM agents, enhancing error detection rate and improving overall confidence in the results."
          ]
        }
      ]
    },
    {
      "cell_type": "code",
      "source": [
        "response_stream = chat_engine.stream_chat(\"How is WaitGPT able to enhance LLMs?\")\n",
        "response_stream.print_response_stream()"
      ],
      "metadata": {
        "colab": {
          "base_uri": "https://localhost:8080/"
        },
        "id": "FOFLk6X48hs_",
        "outputId": "fea68f52-226b-41a4-bcde-42fb8a3ff68b"
      },
      "execution_count": null,
      "outputs": [
        {
          "output_type": "stream",
          "name": "stdout",
          "text": [
            "WaitGPT facilitates monitoring and steering of data analysis performed by LLMs by translating stream-based code into a growing visualization of key data operations, allowing for granular interactions. This approach empowers users to actively monitor and steer the data analysis process, leading to enhanced error detection rates and increased overall confidence in the results."
          ]
        }
      ]
    },
    {
      "cell_type": "code",
      "source": [],
      "metadata": {
        "id": "97lwwXz281lc"
      },
      "execution_count": null,
      "outputs": []
    }
  ]
}